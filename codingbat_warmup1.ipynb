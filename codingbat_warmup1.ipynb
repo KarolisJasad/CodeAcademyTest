{
 "cells": [
  {
   "cell_type": "code",
   "execution_count": 10,
   "metadata": {},
   "outputs": [
    {
     "name": "stdout",
     "output_type": "stream",
     "text": [
      "False\n",
      "True\n"
     ]
    }
   ],
   "source": [
    "# sleep_in\n",
    "\n",
    "def sleep_in(weekday, vacation):\n",
    "  if not weekday or vacation:\n",
    "    return True\n",
    "  else:\n",
    "    return False\n",
    "  \n",
    "print(sleep_in(True, False))\n",
    "print(sleep_in(False, False))"
   ]
  },
  {
   "cell_type": "code",
   "execution_count": 12,
   "metadata": {},
   "outputs": [
    {
     "name": "stdout",
     "output_type": "stream",
     "text": [
      "True\n",
      "False\n",
      "True\n"
     ]
    }
   ],
   "source": [
    "# monkey_trouble\n",
    "\n",
    "# We have two monkeys, a and b, and the parameters a_smile and b_smile\n",
    "# indicate if each is smiling.\n",
    "# We are in trouble if they are both smiling \n",
    "# or if neither of them is smiling. Return True if we are in trouble.\n",
    "\n",
    "def monkey_trouble(a_smile, b_smile):\n",
    "  if a_smile and b_smile:\n",
    "    return True\n",
    "  if not a_smile and not b_smile:\n",
    "    return True\n",
    "  return False\n",
    "\n",
    "print(monkey_trouble(True,True))\n",
    "print(monkey_trouble(False,True))\n",
    "print(monkey_trouble(False,False))"
   ]
  },
  {
   "cell_type": "code",
   "execution_count": 13,
   "metadata": {},
   "outputs": [
    {
     "name": "stdout",
     "output_type": "stream",
     "text": [
      "20\n",
      "9\n"
     ]
    }
   ],
   "source": [
    "# sum_double\n",
    "\n",
    "# Given two int values, return their sum.\n",
    "# Unless the two values are the same, then return double their sum.\n",
    "\n",
    "def sum_double(a, b):\n",
    "  sum = a + b\n",
    "  \n",
    "  if a == b:\n",
    "    sum = sum * 2\n",
    "  return sum\n",
    "\n",
    "print(sum_double(5, 5))\n",
    "print(sum_double(4, 5))"
   ]
  },
  {
   "cell_type": "code",
   "execution_count": 15,
   "metadata": {},
   "outputs": [
    {
     "name": "stdout",
     "output_type": "stream",
     "text": [
      "58\n",
      "1\n",
      "26\n"
     ]
    }
   ],
   "source": [
    "# diff21\n",
    "\n",
    "# Given an int n, return the absolute difference between n and 21,\n",
    "# except return double the absolute difference if n is over 21.\n",
    "\n",
    "def diff21(n):\n",
    "  if n <= 21:\n",
    "    return 21 - n\n",
    "  else:\n",
    "    return (n - 21) *2\n",
    "\n",
    "print(diff21(50))\n",
    "print(diff21(20))\n",
    "print(diff21(-5))"
   ]
  },
  {
   "cell_type": "code",
   "execution_count": 16,
   "metadata": {},
   "outputs": [
    {
     "name": "stdout",
     "output_type": "stream",
     "text": [
      "True\n",
      "True\n",
      "False\n",
      "False\n",
      "False\n",
      "False\n"
     ]
    }
   ],
   "source": [
    "# parrot_trouble\n",
    "\n",
    "# We have a loud talking parrot. \n",
    "# The \"hour\" parameter is the current hour time in the range 0..23.\n",
    "# We are in trouble\n",
    "# if the parrot is talking and the hour is before 7 or after 20.\n",
    "#  Return True if we are in trouble.\n",
    "\n",
    "def parrot_trouble(talking, hour):\n",
    "  if (talking and (hour < 7 or hour > 20)):\n",
    "    return True\n",
    "  else:\n",
    "    return False\n",
    "\n",
    "print(parrot_trouble(True, 6))\n",
    "print(parrot_trouble(True, 21))\n",
    "print(parrot_trouble(True, 15))\n",
    "print(parrot_trouble(False, 6))\n",
    "print(parrot_trouble(False, 21))\n",
    "print(parrot_trouble(False, 15))\n",
    "  "
   ]
  },
  {
   "cell_type": "code",
   "execution_count": 17,
   "metadata": {},
   "outputs": [
    {
     "name": "stdout",
     "output_type": "stream",
     "text": [
      "True\n",
      "False\n",
      "True\n"
     ]
    }
   ],
   "source": [
    "# makes10\n",
    "\n",
    "# Given 2 ints, a and b, return True if one if them is 10\n",
    "# or if their sum is 10.\n",
    "\n",
    "def makes10(a, b):\n",
    "  if (a == 10 or b == 10 or a+b == 10):\n",
    "    return True\n",
    "  else:\n",
    "    return False\n",
    "\n",
    "print(makes10(10, 15))\n",
    "print(makes10(6, 1))\n",
    "print(makes10(6, 4))"
   ]
  },
  {
   "cell_type": "code",
   "execution_count": 19,
   "metadata": {},
   "outputs": [
    {
     "name": "stdout",
     "output_type": "stream",
     "text": [
      "True\n",
      "True\n",
      "True\n",
      "False\n",
      "True\n",
      "True\n"
     ]
    }
   ],
   "source": [
    "# near_hundred\n",
    "\n",
    "# Given an int n, return True if it is within 10 of 100 or 200.\n",
    "# Note: abs(num) computes the absolute value of a number.\n",
    "\n",
    "def near_hundred(n):\n",
    "  if ((abs(100 - n) <=10 ) or (abs(200 - n))):\n",
    "    return True\n",
    "  else:\n",
    "    return False\n",
    "\n",
    "print(near_hundred(50))\n",
    "print(near_hundred(100))\n",
    "print(near_hundred(150))\n",
    "print(near_hundred(200))\n",
    "print(near_hundred(250))\n",
    "print(near_hundred(69))"
   ]
  },
  {
   "cell_type": "code",
   "execution_count": 21,
   "metadata": {},
   "outputs": [
    {
     "name": "stdout",
     "output_type": "stream",
     "text": [
      "True\n",
      "False\n",
      "False\n",
      "True\n"
     ]
    }
   ],
   "source": [
    "# pos_neg\n",
    "\n",
    "# Given 2 int values, return True if one is negative and one is positive.\n",
    "# Except if the parameter \"negative\" is True, then return True\n",
    "# only if both are negative.\n",
    "\n",
    "def pos_neg(a, b, negative):\n",
    "  if negative:\n",
    "    return ( a < 0 and b <0)\n",
    "  else:\n",
    "    return ((a < 0 and b > 0) or (a > 0 and b < 0))\n",
    "\n",
    "print(pos_neg(4, -5, False))\n",
    "print(pos_neg(4, 5, False))\n",
    "print(pos_neg(4, -5, True))\n",
    "print(pos_neg(-4, -5, True))"
   ]
  },
  {
   "cell_type": "code",
   "execution_count": 24,
   "metadata": {},
   "outputs": [
    {
     "name": "stdout",
     "output_type": "stream",
     "text": [
      "not milk\n",
      "not Milk\n",
      "not tea\n",
      "not Tea\n"
     ]
    }
   ],
   "source": [
    "# not_string\n",
    "\n",
    "# Given a string, return a new string where \"not \" has been added to the front.\n",
    "# However, if the string already begins with \"not\",\n",
    "# return the string unchanged.\n",
    "\n",
    "def not_string(str):\n",
    "  if len(str) >= 3 and str[:3] == \"not\":\n",
    "    return str\n",
    "  return \"not \" + str\n",
    "\n",
    "print(not_string(\"not milk\"))\n",
    "print(not_string(\"Milk\"))\n",
    "print(not_string(\"not tea\"))\n",
    "print(not_string(\"Tea\"))"
   ]
  },
  {
   "cell_type": "code",
   "execution_count": 25,
   "metadata": {},
   "outputs": [
    {
     "name": "stdout",
     "output_type": "stream",
     "text": [
      "tekstas\n",
      "makaronai\n"
     ]
    }
   ],
   "source": [
    "# missing_char\n",
    "\n",
    "# Given a non-empty string and an int n,\n",
    "# return a new string where the char at index n has been removed.\n",
    "# The value of n will be a valid index of a char in the original string\n",
    "# (i.e. n will be in the range 0..len(str)-1 inclusive).\n",
    "\n",
    "def missing_char(str, n):\n",
    "  front = str[:n] \n",
    "  back = str[n+1:]\n",
    "  return front + back\n",
    "\n",
    "print(missing_char(\"teKkstas\", 2))\n",
    "print(missing_char(\"makaRronai\", 4))"
   ]
  },
  {
   "cell_type": "code",
   "execution_count": 30,
   "metadata": {},
   "outputs": [
    {
     "name": "stdout",
     "output_type": "stream",
     "text": [
      "paskaitaa\n",
      "sadaT\n"
     ]
    }
   ],
   "source": [
    "# front_back\n",
    "\n",
    "# Return a new string where the first and last chars have been exchanged.\n",
    "\n",
    "def front_back(str):\n",
    "  if len(str) <= 1:\n",
    "    return str\n",
    "    \n",
    "  mid = str[1:-1]  \n",
    "  return str[len(str)-1] + mid + str[0]\n",
    "\n",
    "print(front_back(\"aaskaitap\"))\n",
    "print(front_back(\"Tadas\"))"
   ]
  },
  {
   "cell_type": "code",
   "execution_count": 35,
   "metadata": {},
   "outputs": [
    {
     "name": "stdout",
     "output_type": "stream",
     "text": [
      "ZmoZmoZmo\n",
      "AaaAaaAaa\n",
      "BaaBaaBaa\n"
     ]
    }
   ],
   "source": [
    "# front 3\n",
    "\n",
    "# Given a string, we'll say that the front is the first 3 chars of the string.\n",
    "# If the string length is less than 3,\n",
    "# the front is whatever is there.\n",
    "# Return a new string which is 3 copies of the front.\n",
    "\n",
    "def front3(str):\n",
    "  front = str[:3]\n",
    "  return front * 3\n",
    "\n",
    "print(front3(\"Zmogus\"))\n",
    "print(front3(\"AaaBaaCaa\"))\n",
    "print(front3(\"BaaC\"))\n",
    "print(front3(\"Ga\"))"
   ]
  }
 ],
 "metadata": {
  "kernelspec": {
   "display_name": "venv",
   "language": "python",
   "name": "python3"
  },
  "language_info": {
   "codemirror_mode": {
    "name": "ipython",
    "version": 3
   },
   "file_extension": ".py",
   "mimetype": "text/x-python",
   "name": "python",
   "nbconvert_exporter": "python",
   "pygments_lexer": "ipython3",
   "version": "3.11.3"
  },
  "orig_nbformat": 4
 },
 "nbformat": 4,
 "nbformat_minor": 2
}
