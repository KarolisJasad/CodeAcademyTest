{
 "cells": [
  {
   "attachments": {},
   "cell_type": "markdown",
   "metadata": {},
   "source": [
    "## Aibes"
   ]
  },
  {
   "cell_type": "code",
   "execution_count": 18,
   "metadata": {},
   "outputs": [
    {
     "name": "stdout",
     "output_type": "stream",
     "text": [
      "{'3', 5, '2', '1', '4'}\n"
     ]
    }
   ],
   "source": [
    "# 1 užduotis sukurti aibę ir pridėti skaičių\n",
    "\n",
    "skaiciai = {'1', '2', '3', '4'}\n",
    "skaiciai.add(5)\n",
    "print(skaiciai)"
   ]
  },
  {
   "cell_type": "code",
   "execution_count": 19,
   "metadata": {},
   "outputs": [
    {
     "name": "stdout",
     "output_type": "stream",
     "text": [
      "{'2', '6', '10', '1', '5'}\n"
     ]
    }
   ],
   "source": [
    "# 2 užduotis ištrinti skaičių iš aibės\n",
    "\n",
    "skaiciai1 = {'1', '2', '3','5','6','10'}\n",
    "skaiciai1.remove('3')\n",
    "print(skaiciai1)"
   ]
  },
  {
   "cell_type": "code",
   "execution_count": 20,
   "metadata": {},
   "outputs": [
    {
     "name": "stdout",
     "output_type": "stream",
     "text": [
      "{'2', '1'}\n"
     ]
    }
   ],
   "source": [
    "# 3 užduotis sukurti aibę iš abiejų turimų aibių, su elementais,\n",
    "# kurie yra bendri\n",
    "\n",
    "bendri_skaiciai = skaiciai.intersection(skaiciai1)\n",
    "print(bendri_skaiciai)"
   ]
  },
  {
   "cell_type": "code",
   "execution_count": 21,
   "metadata": {},
   "outputs": [
    {
     "name": "stdout",
     "output_type": "stream",
     "text": [
      "{'3', 5, '4'}\n"
     ]
    }
   ],
   "source": [
    "# 4 užduotis\n",
    "# Sukurkite naują aibę iš pirmoje ir antroje užduotyje sukurtų aibių\n",
    "# su tais elementais, kurie yra pirmoje aibėje, bet ne antroje.\n",
    "\n",
    "bendri_skaiciai1 = skaiciai.difference(skaiciai1)\n",
    "print(bendri_skaiciai1)"
   ]
  },
  {
   "cell_type": "code",
   "execution_count": 23,
   "metadata": {},
   "outputs": [
    {
     "name": "stdout",
     "output_type": "stream",
     "text": [
      "{'6', '10', '5'}\n"
     ]
    }
   ],
   "source": [
    "# 5 užduotis\n",
    "# Sukurkite naują aibę iš pirmoje ir antroje užduotyje sukurtų aibių\n",
    "# su tais elementais, kurie yra unikalūs tik antroje.\n",
    "\n",
    "bendri_skaiciai2 = skaiciai1.difference(skaiciai)\n",
    "print(bendri_skaiciai2)"
   ]
  },
  {
   "cell_type": "code",
   "execution_count": 43,
   "metadata": {},
   "outputs": [
    {
     "name": "stdout",
     "output_type": "stream",
     "text": [
      "36\n",
      "100\n",
      "25\n"
     ]
    }
   ],
   "source": [
    "# 6 u=duotis\n",
    "# Pakelti 5 užduotyje esančius skaičius kvadratu\n",
    "# Tačiau aš naudojau praeitose užduotyse \"string'us\", nes ne taip įvedžiau sk.\n",
    "# Tad vietoj to, kad koreguočiau praeitas aibes, konvertavau į int tikrindamas\n",
    "\n",
    "for kvadratas in bendri_skaiciai2:\n",
    "    kvadratu = int(kvadratas) ** 2\n",
    "    print(kvadratu)"
   ]
  }
 ],
 "metadata": {
  "kernelspec": {
   "display_name": "venv",
   "language": "python",
   "name": "python3"
  },
  "language_info": {
   "codemirror_mode": {
    "name": "ipython",
    "version": 3
   },
   "file_extension": ".py",
   "mimetype": "text/x-python",
   "name": "python",
   "nbconvert_exporter": "python",
   "pygments_lexer": "ipython3",
   "version": "3.11.3"
  },
  "orig_nbformat": 4
 },
 "nbformat": 4,
 "nbformat_minor": 2
}
