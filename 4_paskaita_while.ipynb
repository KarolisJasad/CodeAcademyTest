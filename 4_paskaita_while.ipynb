{
 "cells": [
  {
   "attachments": {},
   "cell_type": "markdown",
   "metadata": {},
   "source": [
    "## Ciklai WHILE"
   ]
  },
  {
   "cell_type": "code",
   "execution_count": 3,
   "metadata": {},
   "outputs": [
    {
     "name": "stdout",
     "output_type": "stream",
     "text": [
      "Skaičius  10\n",
      "Skaičius  9\n",
      "Skaičius  8\n",
      "Skaičius  7\n",
      "Skaičius  6\n",
      "Skaičius  5\n",
      "Skaičius  4\n",
      "Skaičius  3\n",
      "Skaičius  2\n",
      "Skaičius  1\n",
      "Skaičius  0\n",
      "Skaičius  -1\n"
     ]
    }
   ],
   "source": [
    "# 1 užduotis\n",
    "\n",
    "skaicius = 10\n",
    "while skaicius >=-1:\n",
    "    print('Skaičius ', skaicius)\n",
    "    skaicius -=1"
   ]
  },
  {
   "cell_type": "code",
   "execution_count": 9,
   "metadata": {},
   "outputs": [
    {
     "name": "stdout",
     "output_type": "stream",
     "text": [
      "Pradinis skaičius nuo kurio mažinsime 5\n",
      "4\n",
      "3\n",
      "2\n",
      "1\n",
      "Tęsiam ciklą, pasiektas 0, spausdinam skaičių:  0\n",
      "-1\n",
      "-2\n",
      "-3\n",
      "-4\n",
      "Skaičius pasiekė -5, stabdome ciklą, spausdinam skaičių:  -5\n"
     ]
    }
   ],
   "source": [
    "# 2 užduotis\n",
    "\n",
    "skaicius = 5    \n",
    "print('Pradinis skaičius nuo kurio mažinsime', skaicius)\n",
    "while skaicius >= -10:\n",
    "    skaicius -=1\n",
    "    if skaicius == -5:\n",
    "        print(\"Skaičius pasiekė -5, stabdome ciklą, spausdinam skaičių: \", skaicius)\n",
    "        break\n",
    "    elif skaicius == 0:\n",
    "        print(\"Tęsiam ciklą, pasiektas 0, spausdinam skaičių: \", skaicius)\n",
    "        continue\n",
    "    print(skaicius)\n",
    "    \n",
    "    \n",
    "    "
   ]
  },
  {
   "cell_type": "code",
   "execution_count": 22,
   "metadata": {},
   "outputs": [
    {
     "name": "stdout",
     "output_type": "stream",
     "text": [
      "11\n"
     ]
    }
   ],
   "source": [
    "#3 užduotis\n",
    "\n",
    "suma = 0\n",
    "skaicius = 0\n",
    "\n",
    "# while True:\n",
    "while skaicius >=0:\n",
    "    skaicius = int(input('Įveskite skaičių: '))\n",
    "    if skaicius < 0:\n",
    "        break\n",
    "    suma += skaicius\n",
    "    \n",
    "\n",
    "print(suma)\n"
   ]
  }
 ],
 "metadata": {
  "kernelspec": {
   "display_name": "venv",
   "language": "python",
   "name": "python3"
  },
  "language_info": {
   "codemirror_mode": {
    "name": "ipython",
    "version": 3
   },
   "file_extension": ".py",
   "mimetype": "text/x-python",
   "name": "python",
   "nbconvert_exporter": "python",
   "pygments_lexer": "ipython3",
   "version": "3.11.3"
  },
  "orig_nbformat": 4
 },
 "nbformat": 4,
 "nbformat_minor": 2
}
