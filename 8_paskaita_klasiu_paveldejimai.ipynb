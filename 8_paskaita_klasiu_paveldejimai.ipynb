{
 "cells": [
  {
   "attachments": {},
   "cell_type": "markdown",
   "metadata": {},
   "source": [
    "## Klasiu paveldejimas ir abstrakcija"
   ]
  },
  {
   "cell_type": "code",
   "execution_count": 4,
   "metadata": {},
   "outputs": [
    {
     "name": "stdout",
     "output_type": "stream",
     "text": [
      "Kas as: Random noise\n",
      "As kate: Miaaaaaau\n",
      "As kate ir Ateinu, MIAU\n",
      "As suo: WuufWuuf\n",
      "As suo ir Atbegu, WOOF\n"
     ]
    }
   ],
   "source": [
    "# 1 uzduotis\n",
    "\n",
    "class Gyvunas():\n",
    "    def __init__(self, name):\n",
    "        self.name = name\n",
    "    \n",
    "    def balsas(self):\n",
    "        print(\"Kas as: Random noise\")\n",
    "\n",
    "class Kate(Gyvunas):\n",
    "    def balsas(self):\n",
    "        print(\"As kate: Miaaaaaau\")\n",
    "    def judeti(self):\n",
    "        print(\"As kate ir Ateinu, MIAU\")\n",
    "class Suo(Gyvunas):\n",
    "    def balsas(self):\n",
    "        print(\"As suo: WuufWuuf\")\n",
    "    def judeti(self):\n",
    "        print(\"As suo ir Atbegu, WOOF\")\n",
    "\n",
    "ziurke = Gyvunas('Ziurkius')\n",
    "kate = Kate('Kacis')\n",
    "suo = Suo('Rudis')\n",
    "\n",
    "ziurke.balsas()\n",
    "kate.balsas()\n",
    "kate.judeti()\n",
    "suo.balsas()\n",
    "suo.judeti()\n"
   ]
  },
  {
   "cell_type": "code",
   "execution_count": 5,
   "metadata": {},
   "outputs": [
    {
     "name": "stdout",
     "output_type": "stream",
     "text": [
      "True\n",
      "False\n",
      "False\n",
      "True\n",
      "True\n",
      "False\n",
      "True\n",
      "False\n",
      "True\n"
     ]
    }
   ],
   "source": [
    "print(isinstance(ziurke, Gyvunas))\n",
    "print(isinstance(ziurke, Kate))\n",
    "print(isinstance(ziurke, Suo))\n",
    "print(isinstance(kate, Gyvunas))\n",
    "print(isinstance(kate, Kate))\n",
    "print(isinstance(kate, Suo))\n",
    "print(isinstance(suo, Gyvunas))\n",
    "print(isinstance(suo, Kate))\n",
    "print(isinstance(suo, Suo))"
   ]
  },
  {
   "cell_type": "code",
   "execution_count": 40,
   "metadata": {},
   "outputs": [
    {
     "name": "stdout",
     "output_type": "stream",
     "text": [
      "Dabartine baseino talpa yra: 800\n",
      "Dabartinis vandens kiekis yra: 200\n",
      "Papildyta 40 litrų vandens\n",
      "Dabartinis vandens kiekis yra: 240\n",
      "Išpilta 10 litrų vandens\n",
      "Dabartinis vandens kiekis yra: 230\n",
      "Negalima išpilti 300 litrų vandens, nes tiek vandens baseine nėra, dabartinis kiekis yra: 230 litrų vandens\n",
      "Dabartinis vandens kiekis yra: 230\n",
      "Negalima papildyti 1000 litrų vandens, nes viršija talpą\n",
      "Dabartinis vandens kiekis yra: 230\n"
     ]
    }
   ],
   "source": [
    "# Abstrakcijos uzduotis\n",
    "class Baseinas:\n",
    "\n",
    "    def __init__(self, talpa, dabartinis_kiekis):\n",
    "        self.__talpa = talpa\n",
    "        self.__dabartinis_kiekis = dabartinis_kiekis\n",
    "    \n",
    "    def __papildymas(self, kiekis):\n",
    "        self.__dabartinis_kiekis += kiekis\n",
    "    \n",
    "    def vandens_papildymas(self, kiekis):\n",
    "        if self.__dabartinis_kiekis + kiekis <= self.__talpa:\n",
    "            self.__papildymas(kiekis)\n",
    "            print(f'Papildyta {kiekis} litrų vandens')\n",
    "        else:\n",
    "            print(f'Negalima papildyti {kiekis} litrų vandens, nes viršija talpą')\n",
    "\n",
    "    def vandens_nuleidimas(self, kiekis):\n",
    "        if self.__dabartinis_kiekis - kiekis >=0:\n",
    "            self.__papildymas(-kiekis)\n",
    "            print(f'Išpilta {kiekis} litrų vandens')\n",
    "        else:\n",
    "            print(f'Negalima išpilti {kiekis} litrų vandens, nes tiek vandens baseine nėra, dabartinis kiekis yra: {self.__dabartinis_kiekis} litrų vandens')\n",
    "    \n",
    "    def get_baseino_talpa(self):\n",
    "        print(f'Dabartine baseino talpa yra: {self.__talpa}')\n",
    "    def get_dabartinis_kiekis(self):\n",
    "        print(f'Dabartinis vandens kiekis yra: {self.__dabartinis_kiekis}')\n",
    "\n",
    "    \n",
    "baseinas = Baseinas(800, 200)\n",
    "baseinas.get_baseino_talpa()\n",
    "baseinas.get_dabartinis_kiekis()\n",
    "baseinas.vandens_papildymas(40)\n",
    "baseinas.get_dabartinis_kiekis()\n",
    "baseinas.vandens_nuleidimas(10)\n",
    "baseinas.get_dabartinis_kiekis()\n",
    "baseinas.vandens_nuleidimas(300)\n",
    "baseinas.get_dabartinis_kiekis()\n",
    "baseinas.vandens_papildymas(1000)\n",
    "baseinas.get_dabartinis_kiekis()"
   ]
  },
  {
   "attachments": {},
   "cell_type": "markdown",
   "metadata": {},
   "source": [
    "## Polimorfizmas"
   ]
  },
  {
   "cell_type": "code",
   "execution_count": 51,
   "metadata": {},
   "outputs": [
    {
     "name": "stdout",
     "output_type": "stream",
     "text": [
      "Tadas Narkus, atlyginimas: 1500 €\n",
      "Jonas Petraitis, atlyginimas: 1750 €\n",
      "Justas Justinas, atlyginimas: 900 €\n",
      "Bosas Bosaitis, atlyginimas: 2500 €\n",
      "Premija: 700 €\n",
      "Padejejas Bosui, atlyginimas: 2500 €\n",
      "Premija: 500 €\n"
     ]
    }
   ],
   "source": [
    "# 1 uzduotis\n",
    "\n",
    "class Darbuotojai:\n",
    "    def __init__(self, vardas, pavarde, atlyginimas=1500):\n",
    "        self.vardas = vardas\n",
    "        self.pavarde = pavarde\n",
    "        self.atlyginimas = atlyginimas\n",
    "    \n",
    "    def info(self):\n",
    "        print(f'{self. vardas} {self.pavarde}, atlyginimas: {self.atlyginimas} €')\n",
    "    \n",
    "\n",
    "class Administratorius(Darbuotojai):\n",
    "    def __init__(self, vardas, pavarde, atlyginimas=2000):\n",
    "        super().__init__(vardas, pavarde, atlyginimas)\n",
    "\n",
    "class Vadovas(Darbuotojai):\n",
    "    def __init__(self, vardas, pavarde, atlyginimas=2500, premija=500):\n",
    "        super().__init__(vardas, pavarde, atlyginimas)\n",
    "        self.premija = premija\n",
    "    \n",
    "    def info(self):\n",
    "        super().info()\n",
    "        print(f'Premija: {self.premija} €')\n",
    "\n",
    "darbuotojas1 = Darbuotojai('Tadas', 'Narkus')\n",
    "darbuotojas2 = Darbuotojai('Jonas', 'Petraitis', 1750)\n",
    "darbuotojas3 = Administratorius('Justas', 'Justinas', 900)\n",
    "vadovas1 = Vadovas('Bosas', 'Bosaitis', premija=700)\n",
    "vadovas2 = Vadovas('Padejejas', 'Bosui')\n",
    "\n",
    "darbuotojai = [darbuotojas1, darbuotojas2, darbuotojas3, vadovas1, vadovas2]\n",
    "for darbuotojas in darbuotojai:\n",
    "    darbuotojas.info()\n"
   ]
  }
 ],
 "metadata": {
  "kernelspec": {
   "display_name": "Python 3",
   "language": "python",
   "name": "python3"
  },
  "language_info": {
   "codemirror_mode": {
    "name": "ipython",
    "version": 3
   },
   "file_extension": ".py",
   "mimetype": "text/x-python",
   "name": "python",
   "nbconvert_exporter": "python",
   "pygments_lexer": "ipython3",
   "version": "3.11.3"
  },
  "orig_nbformat": 4
 },
 "nbformat": 4,
 "nbformat_minor": 2
}
