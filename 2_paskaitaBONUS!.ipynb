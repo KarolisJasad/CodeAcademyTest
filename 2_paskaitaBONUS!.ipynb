{
 "cells": [
  {
   "attachments": {},
   "cell_type": "markdown",
   "metadata": {},
   "source": [
    "## TEST"
   ]
  },
  {
   "cell_type": "code",
   "execution_count": 2,
   "metadata": {},
   "outputs": [
    {
     "name": "stdout",
     "output_type": "stream",
     "text": [
      "sveiki\n"
     ]
    }
   ],
   "source": [
    "print(\"sveiki\")"
   ]
  },
  {
   "attachments": {},
   "cell_type": "markdown",
   "metadata": {},
   "source": [
    "## Žodynai"
   ]
  },
  {
   "cell_type": "code",
   "execution_count": 4,
   "metadata": {},
   "outputs": [
    {
     "name": "stdout",
     "output_type": "stream",
     "text": [
      "{'Pilkis': 3, 'Rudis': 1, 'Juodis': 6}\n"
     ]
    }
   ],
   "source": [
    "# 1 Uzduotis\n",
    "gyvunai = {'Pilkis': 3, 'Rudis': 1, 'Juodis': 6}\n",
    "print(gyvunai)\n"
   ]
  },
  {
   "cell_type": "code",
   "execution_count": 8,
   "metadata": {},
   "outputs": [
    {
     "name": "stdout",
     "output_type": "stream",
     "text": [
      "1\n"
     ]
    }
   ],
   "source": [
    "# 2 Uzduotis\n",
    "print(gyvunai['Rudis'])"
   ]
  },
  {
   "cell_type": "code",
   "execution_count": 9,
   "metadata": {},
   "outputs": [
    {
     "name": "stdout",
     "output_type": "stream",
     "text": [
      "{'Pilkis': 3, 'Rudis': 1, 'Juodis': 6, 'Fanta': 4}\n"
     ]
    }
   ],
   "source": [
    "# 3 Uzduotis\n",
    "gyvunai['Fanta'] = 4\n",
    "print(gyvunai)"
   ]
  },
  {
   "cell_type": "code",
   "execution_count": 10,
   "metadata": {},
   "outputs": [
    {
     "name": "stdout",
     "output_type": "stream",
     "text": [
      "{'Pilkis': 3, 'Rudis': 2, 'Juodis': 6, 'Fanta': 4}\n"
     ]
    }
   ],
   "source": [
    "# 4 Uzduotis\n",
    "gyvunai['Rudis'] = 2\n",
    "print(gyvunai)"
   ]
  },
  {
   "cell_type": "code",
   "execution_count": 11,
   "metadata": {},
   "outputs": [
    {
     "name": "stdout",
     "output_type": "stream",
     "text": [
      "{'Pilkis': 3, 'Rudis': 2, 'Juodis': 6}\n"
     ]
    }
   ],
   "source": [
    "# 5 Uzduotis\n",
    "del gyvunai['Fanta']\n",
    "print(gyvunai)"
   ]
  },
  {
   "cell_type": "code",
   "execution_count": 12,
   "metadata": {},
   "outputs": [
    {
     "name": "stdout",
     "output_type": "stream",
     "text": [
      "dict_keys(['Pilkis', 'Rudis', 'Juodis'])\n",
      "dict_values([3, 2, 6])\n",
      "dict_items([('Pilkis', 3), ('Rudis', 2), ('Juodis', 6)])\n",
      "3\n"
     ]
    }
   ],
   "source": [
    "# 6 Uzduotis\n",
    "vardai = gyvunai.keys()\n",
    "print(vardai)\n",
    "amzius = gyvunai.values()\n",
    "print(amzius)\n",
    "gyvunu_sarasas = gyvunai.items()\n",
    "print(gyvunu_sarasas)\n",
    "gyvuno_amzius = gyvunai.get('Pilkis')\n",
    "print(gyvuno_amzius)"
   ]
  },
  {
   "cell_type": "code",
   "execution_count": 2,
   "metadata": {},
   "outputs": [
    {
     "name": "stdout",
     "output_type": "stream",
     "text": [
      "Informacija apie antrąjį automobilį {'marke': 'Audi', 'modelis': 'A3', 'metai': '2023', 'spalva': 'Balta', 'variklis': 'Dyzelis'}\n",
      "Informacija apie antrąjį automobilį {'marke': 'Audi', 'modelis': 'A3', 'metai': '2023', 'spalva': 'Balta', 'variklis': 'Elektra'}\n",
      "{'1': {'marke': 'BMW', 'modelis': 'e46', 'metai': '2003', 'spalva': 'Juoda', 'variklis': 'Benzinas'}, '2': {'marke': 'Audi', 'modelis': 'A3', 'metai': '2023', 'spalva': 'Balta', 'variklis': 'Elektra'}, '3': {'marke': 'Citroen', 'modelis': 'C4', 'metai': '2010', 'spalva': 'Balta', 'variklis': 'Benzinas'}, 4: {'marke': 'Tesla', 'modelis': 'S', 'metai': '2017', 'spalva': 'Raudona', 'variklis': 'Elektra'}}\n",
      "{'2': {'marke': 'Audi', 'modelis': 'A3', 'metai': '2023', 'spalva': 'Balta', 'variklis': 'Elektra'}, '3': {'marke': 'Citroen', 'modelis': 'C4', 'metai': '2010', 'spalva': 'Balta', 'variklis': 'Benzinas'}, 4: {'marke': 'Tesla', 'modelis': 'S', 'metai': '2017', 'spalva': 'Raudona', 'variklis': 'Elektra'}}\n",
      "3\n",
      "A6  nėra duomenų bazėje\n"
     ]
    }
   ],
   "source": [
    "# 7 Uzduotis\n",
    "automobiliai = {\n",
    "    '1' : {\n",
    "        'marke' : 'BMW',\n",
    "        'modelis' : 'e46',\n",
    "        'metai' : '2003',\n",
    "        'spalva' : 'Juoda',\n",
    "        'variklis' : 'Benzinas'\n",
    "    },\n",
    "    '2': {\n",
    "        'marke' : 'Audi',\n",
    "        'modelis' : 'A3',\n",
    "        'metai' : '2023',\n",
    "        'spalva' : 'Balta',\n",
    "        'variklis' : 'Dyzelis'\n",
    "    },\n",
    "    '3': {\n",
    "        'marke' : 'Citroen',\n",
    "        'modelis' : 'C4',\n",
    "        'metai' : '2010',\n",
    "        'spalva' : 'Balta',\n",
    "        'variklis' : 'Benzinas'\n",
    "\n",
    "    }}\n",
    "\n",
    "print(\"Informacija apie antrąjį automobilį\" ,automobiliai['2'])\n",
    "automobiliai['2']['variklis'] = 'Elektra'\n",
    "print(\"Informacija apie antrąjį automobilį\" ,automobiliai['2'])\n",
    "automobiliai[4] = {\n",
    "        'marke' : 'Tesla',\n",
    "        'modelis' : 'S',\n",
    "        'metai' : '2017',\n",
    "        'spalva' : 'Raudona',\n",
    "        'variklis' : 'Elektra'\n",
    "    }\n",
    "print(automobiliai)\n",
    "del automobiliai['1']\n",
    "print(automobiliai)\n",
    "print(len(automobiliai))\n",
    "\n",
    "tikrinama_masina = input(\"Įveskite tikrinamos mašinos modelį\")\n",
    "if tikrinama_masina in [masina['modelis'] for masina in automobiliai.values()]:\n",
    "    print(tikrinama_masina,\" egzistuoja duomenų bazėje\")\n",
    "else:\n",
    "    print(tikrinama_masina,\" nėra duomenų bazėje\")\n",
    "\n"
   ]
  }
 ],
 "metadata": {
  "kernelspec": {
   "display_name": "venv",
   "language": "python",
   "name": "python3"
  },
  "language_info": {
   "codemirror_mode": {
    "name": "ipython",
    "version": 3
   },
   "file_extension": ".py",
   "mimetype": "text/x-python",
   "name": "python",
   "nbconvert_exporter": "python",
   "pygments_lexer": "ipython3",
   "version": "3.11.3"
  },
  "orig_nbformat": 4
 },
 "nbformat": 4,
 "nbformat_minor": 2
}
