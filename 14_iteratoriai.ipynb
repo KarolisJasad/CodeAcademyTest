{
 "cells": [
  {
   "cell_type": "code",
   "execution_count": 6,
   "metadata": {},
   "outputs": [
    {
     "name": "stdout",
     "output_type": "stream",
     "text": [
      "[9, 8, 7, 6, 5, 4, 3, 2, 1, 0]\n",
      "9\n",
      "8\n",
      "7\n",
      "6\n",
      "5\n",
      "4\n",
      "3\n",
      "2\n",
      "1\n",
      "0\n",
      "Lift-off!\n",
      "BOOOOM!\n"
     ]
    }
   ],
   "source": [
    "import time\n",
    "# skaiciai = [9, 8 ,7, 6, 5, 4, 3, 2, 1]\n",
    "skaiciai = sorted(list(range(0, 10)), reverse=True)\n",
    "print(skaiciai)\n",
    "countdown = iter(skaiciai)\n",
    "while True:\n",
    "    try:\n",
    "        print(next(countdown))\n",
    "        time.sleep(0.2)\n",
    "    except StopIteration:\n",
    "        print(\"Lift-off!\")\n",
    "        break\n",
    "time.sleep(1)\n",
    "print(\"BOOOOM!\")\n"
   ]
  },
  {
   "cell_type": "code",
   "execution_count": 7,
   "metadata": {},
   "outputs": [
    {
     "name": "stdout",
     "output_type": "stream",
     "text": [
      "Istraukem 2 kg pienas\n",
      "Istraukem 11 kg kiausiniai\n",
      "Istraukem 2.4 kg suris\n",
      "Istraukem 6.1 kg kumpis\n",
      "Istraukem 4.3 kg pomidorai\n",
      "Produktai baigesi, saldytuvas tuscias\n"
     ]
    }
   ],
   "source": [
    "saldytuvas = {\n",
    "    \"pienas\" : 2,\n",
    "    \"kiausiniai\" : 11,\n",
    "    \"suris\" : 2.4,\n",
    "    \"kumpis\" : 6.1,\n",
    "    \"pomidorai\" : 4.3,\n",
    "}\n",
    "\n",
    "traukimas = iter(saldytuvas.items())\n",
    "while True:\n",
    "    try:\n",
    "        produktas, kiekis = next(traukimas)\n",
    "    except StopIteration:\n",
    "        print(\"Produktai baigesi, saldytuvas tuscias\")\n",
    "        break\n",
    "    else:\n",
    "        print(f\"Istraukem {kiekis} kg {produktas}\")"
   ]
  },
  {
   "cell_type": "code",
   "execution_count": 12,
   "metadata": {},
   "outputs": [
    {
     "name": "stdout",
     "output_type": "stream",
     "text": [
      "8\n",
      "6\n",
      "4\n",
      "2\n",
      "Baigesi skaiciai\n"
     ]
    }
   ],
   "source": [
    "# 1 uzduotis\n",
    "\n",
    "skaiciai = [9, 8 ,7, 6, 5, 4, 3, 2, 1]\n",
    "iteratorius = iter(skaiciai)\n",
    "while True:\n",
    "    try:\n",
    "        dabartinis_skaicius = next(iteratorius)\n",
    "    except StopIteration:\n",
    "        print(\"Baigesi skaiciai\")\n",
    "        break\n",
    "    else:\n",
    "        if dabartinis_skaicius % 2 == 0:\n",
    "            print(dabartinis_skaicius)"
   ]
  },
  {
   "cell_type": "code",
   "execution_count": 17,
   "metadata": {},
   "outputs": [
    {
     "name": "stdout",
     "output_type": "stream",
     "text": [
      "C\n",
      "D\n",
      "Baigesi skaiciai\n"
     ]
    }
   ],
   "source": [
    "# 2 uzduotis\n",
    "\n",
    "zodynas = {\"A\": 4, \"B\": 2, \"C\":6, \"D\":5}\n",
    "iteratoriaus_reiksme = iter(zodynas.items())\n",
    "\n",
    "while True:\n",
    "    try:\n",
    "        dabartinis_raktas, dabartinis_reiksme = next(iteratoriaus_reiksme)\n",
    "    except StopIteration:\n",
    "        print(\"Baigesi raides\")\n",
    "        break\n",
    "    else:\n",
    "        if dabartinis_reiksme > 4:\n",
    "            print (dabartinis_raktas)\n"
   ]
  },
  {
   "cell_type": "code",
   "execution_count": 21,
   "metadata": {},
   "outputs": [
    {
     "name": "stdout",
     "output_type": "stream",
     "text": [
      "8\n",
      "4\n",
      "6\n",
      "5\n"
     ]
    }
   ],
   "source": [
    "# 3 uzduotis\n",
    "\n",
    "tekstas = \"Siandien buvo sunkus rytas\"\n",
    "zodziu_ilgiai = (len(zodis) for zodis in tekstas.split())\n",
    "zodziu_ilgiai_iter = iter(zodziu_ilgiai)\n",
    "while True:\n",
    "    try:\n",
    "        ilgis = next(zodziu_ilgiai_iter)\n",
    "        print(ilgis)\n",
    "    except StopIteration:\n",
    "        break"
   ]
  },
  {
   "cell_type": "code",
   "execution_count": 3,
   "metadata": {},
   "outputs": [
    {
     "name": "stdout",
     "output_type": "stream",
     "text": [
      "2\n",
      "3\n",
      "5\n",
      "7\n",
      "11\n",
      "13\n",
      "17\n",
      "19\n"
     ]
    }
   ],
   "source": [
    "# 4 uzduotis\n",
    "\n",
    "def ar_pirminis(skaicius):\n",
    "    if skaicius < 2:\n",
    "        return False\n",
    "    for i in range(2, skaicius):\n",
    "        if skaicius % i == 0:\n",
    "            return False\n",
    "    return True\n",
    "\n",
    "def pirminiai_iki_n(n):\n",
    "    for skaicius in range(2, n + 1):\n",
    "        if ar_pirminis(skaicius):\n",
    "            yield skaicius\n",
    "        \n",
    "pirminiai_generatorius = pirminiai_iki_n(20)\n",
    "pirminiai_iter = iter(pirminiai_generatorius)\n",
    "while True:\n",
    "    try:\n",
    "        skaicius = next(pirminiai_iter)\n",
    "        print(skaicius)\n",
    "    except StopIteration:\n",
    "        break\n"
   ]
  },
  {
   "cell_type": "code",
   "execution_count": 33,
   "metadata": {},
   "outputs": [],
   "source": [
    "from datetime import datetime\n",
    "\n",
    "def meter_performance(func):\n",
    "    def wrapper(*args, **kwargs):\n",
    "        start = datetime.now()\n",
    "        res = func(*args, **kwargs)\n",
    "        duration = datetime.now() - start\n",
    "        print(f\"{func.__name__} took {duration} time\")\n",
    "    return wrapper"
   ]
  },
  {
   "cell_type": "code",
   "execution_count": 6,
   "metadata": {},
   "outputs": [],
   "source": [
    "def countdown_gen(start=10):\n",
    "    while start > 0:\n",
    "        yield start\n",
    "        start -=1"
   ]
  },
  {
   "cell_type": "code",
   "execution_count": 22,
   "metadata": {},
   "outputs": [
    {
     "name": "stdout",
     "output_type": "stream",
     "text": [
      "10000\n"
     ]
    }
   ],
   "source": [
    "timer = countdown_gen(10000)\n",
    "print(next(timer))"
   ]
  },
  {
   "cell_type": "code",
   "execution_count": 23,
   "metadata": {},
   "outputs": [
    {
     "name": "stdout",
     "output_type": "stream",
     "text": [
      "9999\n"
     ]
    }
   ],
   "source": [
    "print(next(timer))"
   ]
  },
  {
   "cell_type": "code",
   "execution_count": 35,
   "metadata": {},
   "outputs": [],
   "source": [
    "@meter_performance\n",
    "def run_timer(generator):\n",
    "    while True:\n",
    "        try:\n",
    "            timer = next(generator)\n",
    "            print(timer)\n",
    "        except StopIteration:\n",
    "            print(\"Launch!\")\n",
    "            break\n",
    "        else:\n",
    "            print(timer)"
   ]
  },
  {
   "cell_type": "code",
   "execution_count": 47,
   "metadata": {},
   "outputs": [
    {
     "name": "stdout",
     "output_type": "stream",
     "text": [
      "50\n",
      "50\n",
      "49\n",
      "49\n",
      "48\n",
      "48\n",
      "47\n",
      "47\n",
      "46\n",
      "46\n",
      "45\n",
      "45\n",
      "44\n",
      "44\n",
      "43\n",
      "43\n",
      "42\n",
      "42\n",
      "41\n",
      "41\n",
      "40\n",
      "40\n",
      "39\n",
      "39\n",
      "38\n",
      "38\n",
      "37\n",
      "37\n",
      "36\n",
      "36\n",
      "35\n",
      "35\n",
      "34\n",
      "34\n",
      "33\n",
      "33\n",
      "32\n",
      "32\n",
      "31\n",
      "31\n",
      "30\n",
      "30\n",
      "29\n",
      "29\n",
      "28\n",
      "28\n",
      "27\n",
      "27\n",
      "26\n",
      "26\n",
      "25\n",
      "25\n",
      "24\n",
      "24\n",
      "23\n",
      "23\n",
      "22\n",
      "22\n",
      "21\n",
      "21\n",
      "20\n",
      "20\n",
      "19\n",
      "19\n",
      "18\n",
      "18\n",
      "17\n",
      "17\n",
      "16\n",
      "16\n",
      "15\n",
      "15\n",
      "14\n",
      "14\n",
      "13\n",
      "13\n",
      "12\n",
      "12\n",
      "11\n",
      "11\n",
      "10\n",
      "10\n",
      "9\n",
      "9\n",
      "8\n",
      "8\n",
      "7\n",
      "7\n",
      "6\n",
      "6\n",
      "5\n",
      "5\n",
      "4\n",
      "4\n",
      "3\n",
      "3\n",
      "2\n",
      "2\n",
      "1\n",
      "1\n",
      "Launch!\n",
      "run_timer took 0:00:00.001001 time\n"
     ]
    }
   ],
   "source": [
    "run_timer(countdown_gen(50))"
   ]
  },
  {
   "cell_type": "code",
   "execution_count": 58,
   "metadata": {},
   "outputs": [],
   "source": [
    "from typing import Callable, Any\n",
    "from functools import wraps\n",
    "\n",
    "def my_decorator(func: Callable[..., Any]) -> Callable[..., Any]:\n",
    "    \"\"\"Mano dekoratorius\"\"\"\n",
    "    @wraps(func)\n",
    "    def wrapper(*args, **kwargs) -> Any:\n",
    "        \"\"\"Dekoratorius, kuris isspausdina info kada paleidziama\n",
    "        funkcija ir kada ji baigiasi\"\"\"\n",
    "        print(\"Funkcija bus isvkeista\")\n",
    "        result = func(*args, **kwargs)\n",
    "        print(\"Funkcija buvo iskviesta\")\n",
    "        return result\n",
    "    return wrapper"
   ]
  },
  {
   "cell_type": "code",
   "execution_count": 59,
   "metadata": {},
   "outputs": [
    {
     "name": "stdout",
     "output_type": "stream",
     "text": [
      "Funkcija bus isvkeista\n",
      "Destytojo funkcija\n",
      "Funkcija buvo iskviesta\n",
      " paraso, kieno yra si funkcija\n"
     ]
    }
   ],
   "source": [
    "@my_decorator\n",
    "def mano_funkcija(kieno:str=\"Mano\"):\n",
    "    \"\"\" paraso, kieno yra si funkcija\"\"\"\n",
    "    print(f\"{kieno} funkcija\")\n",
    "\n",
    "mano_funkcija(\"Destytojo\")\n",
    "print(mano_funkcija.__doc__)"
   ]
  },
  {
   "cell_type": "code",
   "execution_count": 76,
   "metadata": {},
   "outputs": [],
   "source": [
    "def aidas(kartai: int):\n",
    "    def decorator(func):\n",
    "        @wraps(func)\n",
    "        def wrapper(*args, **kwargs):\n",
    "            result = []\n",
    "            for __ in range(kartai):\n",
    "                result.append(func(*args, **kwargs))\n",
    "            return result\n",
    "        return wrapper\n",
    "    return decorator\n"
   ]
  },
  {
   "cell_type": "code",
   "execution_count": 89,
   "metadata": {},
   "outputs": [],
   "source": [
    "@aidas(5)\n",
    "def daugyba(*args):\n",
    "    rez = 1\n",
    "    for arg in args:\n",
    "        rez *= arg\n",
    "    return rez"
   ]
  },
  {
   "cell_type": "code",
   "execution_count": 90,
   "metadata": {},
   "outputs": [
    {
     "name": "stdout",
     "output_type": "stream",
     "text": [
      "[6, 6, 6, 6, 6]\n"
     ]
    }
   ],
   "source": [
    "print(daugyba(2, 3))"
   ]
  },
  {
   "cell_type": "code",
   "execution_count": 106,
   "metadata": {},
   "outputs": [
    {
     "name": "stdout",
     "output_type": "stream",
     "text": [
      "Tadas Cvirka\n",
      "Janina Jonine\n",
      "True\n",
      "False\n"
     ]
    }
   ],
   "source": [
    "# uzduotis\n",
    "\n",
    "class Studentas:\n",
    "    def __init__(self, vardas, pavarde, amzius):\n",
    "        self.vardas = vardas\n",
    "        self.pavarde = pavarde\n",
    "        self.amzius = amzius\n",
    "    \n",
    "    @property\n",
    "    def pilnas_vardas(self):\n",
    "        return f\"{self.vardas} {self.pavarde}\"\n",
    "    \n",
    "    def __str__(self) -> str:\n",
    "        return f\"{self.vardas} {self.pavarde}\"\n",
    "    \n",
    "    @staticmethod\n",
    "    def ar_pilnametis(amzius):\n",
    "        return amzius >= 18\n",
    "    \n",
    "    @classmethod\n",
    "    def sukurti_studenta(cls, vardas: str, pavarde: str, amzius: int):\n",
    "        return cls(vardas, pavarde, amzius)\n",
    "\n",
    "studentas1 = Studentas.sukurti_studenta(\"Tadas\", \"Cvirka\", 50)\n",
    "studentas2 = Studentas.sukurti_studenta(\"Janina\", \"Jonine\", 17)\n",
    "\n",
    "print(studentas1.pilnas_vardas)\n",
    "print(studentas2.pilnas_vardas)\n",
    "\n",
    "print(Studentas.ar_pilnametis(studentas1.amzius))\n",
    "print(Studentas.ar_pilnametis(studentas2.amzius))\n",
    "\n"
   ]
  }
 ],
 "metadata": {
  "kernelspec": {
   "display_name": "venv",
   "language": "python",
   "name": "python3"
  },
  "language_info": {
   "codemirror_mode": {
    "name": "ipython",
    "version": 3
   },
   "file_extension": ".py",
   "mimetype": "text/x-python",
   "name": "python",
   "nbconvert_exporter": "python",
   "pygments_lexer": "ipython3",
   "version": "3.11.3"
  },
  "orig_nbformat": 4
 },
 "nbformat": 4,
 "nbformat_minor": 2
}
