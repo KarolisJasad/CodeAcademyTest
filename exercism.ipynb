{
 "cells": [
  {
   "attachments": {},
   "cell_type": "markdown",
   "metadata": {},
   "source": [
    "## Exercism Guido's Gorgeous Lasagna\n",
    "### Functions"
   ]
  },
  {
   "cell_type": "code",
   "execution_count": 2,
   "metadata": {},
   "outputs": [
    {
     "name": "stdout",
     "output_type": "stream",
     "text": [
      "40\n"
     ]
    }
   ],
   "source": [
    "EXPECTED_BAKE_TIME = 40\n",
    "print(EXPECTED_BAKE_TIME)"
   ]
  },
  {
   "cell_type": "code",
   "execution_count": 4,
   "metadata": {},
   "outputs": [
    {
     "data": {
      "text/plain": [
       "30"
      ]
     },
     "execution_count": 4,
     "metadata": {},
     "output_type": "execute_result"
    }
   ],
   "source": [
    "def bake_time_remaining(EXPECTED_BAKE_TIME, elapsed_bake_time):\n",
    "    return EXPECTED_BAKE_TIME - elapsed_bake_time\n",
    "bake_time_remaining(EXPECTED_BAKE_TIME,10)"
   ]
  },
  {
   "cell_type": "code",
   "execution_count": 5,
   "metadata": {},
   "outputs": [
    {
     "data": {
      "text/plain": [
       "4"
      ]
     },
     "execution_count": 5,
     "metadata": {},
     "output_type": "execute_result"
    }
   ],
   "source": [
    "def preperation_time_in_minutes(number_of_layers):\n",
    "    prep_time = number_of_layers * 2\n",
    "    return prep_time\n",
    "preperation_time_in_minutes(2)"
   ]
  },
  {
   "cell_type": "code",
   "execution_count": 6,
   "metadata": {},
   "outputs": [
    {
     "data": {
      "text/plain": [
       "26"
      ]
     },
     "execution_count": 6,
     "metadata": {},
     "output_type": "execute_result"
    }
   ],
   "source": [
    "def elapsed_time_in_minutes(number_of_layers, elapsed_bake_time):\n",
    "    time_in_oven = number_of_layers * 2 + elapsed_bake_time\n",
    "    return time_in_oven\n",
    "elapsed_time_in_minutes(3, 20)"
   ]
  },
  {
   "attachments": {},
   "cell_type": "markdown",
   "metadata": {},
   "source": [
    "## Exercism Boolean\n"
   ]
  },
  {
   "cell_type": "code",
   "execution_count": 18,
   "metadata": {},
   "outputs": [
    {
     "data": {
      "text/plain": [
       "False"
      ]
     },
     "execution_count": 18,
     "metadata": {},
     "output_type": "execute_result"
    }
   ],
   "source": [
    "# 1 uzduotis su PAC-MAN\n",
    "\n",
    "def eat_ghost(power_pellet_active, touching_ghost):\n",
    "    if power_pellet_active and touching_ghost:\n",
    "        return True\n",
    "    else:\n",
    "        return False\n",
    "\n",
    "eat_ghost(False, True)\n"
   ]
  },
  {
   "cell_type": "code",
   "execution_count": 21,
   "metadata": {},
   "outputs": [
    {
     "data": {
      "text/plain": [
       "False"
      ]
     },
     "execution_count": 21,
     "metadata": {},
     "output_type": "execute_result"
    }
   ],
   "source": [
    "def score(touching_power_pellet, touching_dot):\n",
    "    if touching_power_pellet or touching_dot:\n",
    "        return True\n",
    "    else:\n",
    "        return False\n",
    "\n",
    "score(True, True)"
   ]
  },
  {
   "cell_type": "code",
   "execution_count": 22,
   "metadata": {},
   "outputs": [
    {
     "data": {
      "text/plain": [
       "True"
      ]
     },
     "execution_count": 22,
     "metadata": {},
     "output_type": "execute_result"
    }
   ],
   "source": [
    "def lose(power_pellet_active, touching_ghost):\n",
    "    if touching_ghost and not power_pellet_active:\n",
    "        return True\n",
    "    else:\n",
    "        return False\n",
    "\n",
    "lose(False,True)"
   ]
  },
  {
   "cell_type": "code",
   "execution_count": 37,
   "metadata": {},
   "outputs": [
    {
     "data": {
      "text/plain": [
       "True"
      ]
     },
     "execution_count": 37,
     "metadata": {},
     "output_type": "execute_result"
    }
   ],
   "source": [
    "def win(has_eaten_all_dots, power_pellet_active, touching_ghost):\n",
    "    if has_eaten_all_dots and (power_pellet_active and touching_ghost):\n",
    "        return True\n",
    "    elif has_eaten_all_dots and not touching_ghost:\n",
    "        return True\n",
    "    else:\n",
    "        return False   \n",
    "\n",
    "\n",
    "win(True, True, True)"
   ]
  },
  {
   "attachments": {},
   "cell_type": "markdown",
   "metadata": {},
   "source": [
    "## Exercism\n",
    "### Conditionals"
   ]
  },
  {
   "cell_type": "code",
   "execution_count": 38,
   "metadata": {},
   "outputs": [
    {
     "data": {
      "text/plain": [
       "True"
      ]
     },
     "execution_count": 38,
     "metadata": {},
     "output_type": "execute_result"
    }
   ],
   "source": [
    "# 1 uzduotis\n",
    "\n",
    "def is_criticality_balanced(temperature, neutrons_emitted):\n",
    "    if temperature < 800 and neutrons_emitted > 500 and temperature * neutrons_emitted < 500000:\n",
    "        return True\n",
    "    else:\n",
    "        return False\n",
    "\n",
    "is_criticality_balanced(750, 600)"
   ]
  },
  {
   "cell_type": "code",
   "execution_count": 42,
   "metadata": {},
   "outputs": [
    {
     "data": {
      "text/plain": [
       "'orange'"
      ]
     },
     "execution_count": 42,
     "metadata": {},
     "output_type": "execute_result"
    }
   ],
   "source": [
    "def reactor_efficiency(voltage, current, theoretical_max_power):\n",
    "    generated_power = voltage * current\n",
    "    percentage = (generated_power/theoretical_max_power)*100\n",
    "\n",
    "    if percentage >= 80:\n",
    "        return \"green\"\n",
    "    elif percentage >= 60:\n",
    "        return \"orange\"\n",
    "    elif percentage >= 30:\n",
    "        return \"red\"\n",
    "    else:\n",
    "        return \"black\"\n",
    "\n",
    "reactor_efficiency(200,50,15000)\n"
   ]
  },
  {
   "cell_type": "code",
   "execution_count": 43,
   "metadata": {},
   "outputs": [
    {
     "data": {
      "text/plain": [
       "'DANGER'"
      ]
     },
     "execution_count": 43,
     "metadata": {},
     "output_type": "execute_result"
    }
   ],
   "source": [
    "def fail_safe(temperature, neutrons_produced_per_second, threshold):\n",
    "    temperatura = temperature * neutrons_produced_per_second\n",
    "    if temperatura < 0.9 * threshold:\n",
    "        return 'LOW'\n",
    "    elif 0.9 * threshold <= temperatura <= 1.1 * threshold:\n",
    "        return 'NORMAL'\n",
    "    else:\n",
    "        return 'DANGER'\n",
    "\n",
    "fail_safe(temperature=1000, neutrons_produced_per_second=30, threshold=5000)"
   ]
  },
  {
   "attachments": {},
   "cell_type": "markdown",
   "metadata": {},
   "source": [
    "## STRINGS"
   ]
  },
  {
   "cell_type": "code",
   "execution_count": null,
   "metadata": {},
   "outputs": [],
   "source": [
    " # 1 uzduotis\n",
    "\n",
    "def add_prefix_un(word):\n",
    "    return un + word"
   ]
  },
  {
   "cell_type": "code",
   "execution_count": 44,
   "metadata": {},
   "outputs": [
    {
     "data": {
      "text/plain": [
       "'en :: enclose :: enjoy :: enlighten'"
      ]
     },
     "execution_count": 44,
     "metadata": {},
     "output_type": "execute_result"
    }
   ],
   "source": [
    "def make_word_groups(vocab_words):\n",
    "    prefix = vocab_words[0]\n",
    "    words = [prefix + word for word in vocab_words[1:]]\n",
    "    return prefix + ' :: ' + ' :: '.join(words)\n",
    "\n",
    "make_word_groups(['en', 'close', 'joy', 'lighten'])"
   ]
  },
  {
   "cell_type": "code",
   "execution_count": 48,
   "metadata": {},
   "outputs": [
    {
     "data": {
      "text/plain": [
       "'sad'"
      ]
     },
     "execution_count": 48,
     "metadata": {},
     "output_type": "execute_result"
    }
   ],
   "source": [
    "def remove_suffix_ness(word):\n",
    "    if word.endswith('ness'):\n",
    "        root = word[:-4]\n",
    "        if root[-1] == 'i' and root[-2] in 'bcdfghjklmnpqrstvwxyz':\n",
    "            return root[:-1] + 'y'\n",
    "        else:\n",
    "            return root\n",
    "    else:\n",
    "        return word\n",
    "\n",
    "remove_suffix_ness(\"heaviness\")\n",
    "\n",
    "\n"
   ]
  },
  {
   "cell_type": "code",
   "execution_count": 49,
   "metadata": {},
   "outputs": [
    {
     "data": {
      "text/plain": [
       "'bright.en'"
      ]
     },
     "execution_count": 49,
     "metadata": {},
     "output_type": "execute_result"
    }
   ],
   "source": [
    "def adjective_to_verb(sentence, index):\n",
    "    words = sentence.split()\n",
    "    adjective = words[index].rstrip('.')\n",
    "    verb = adjective + 'en'\n",
    "    return verb\n",
    "\n",
    "adjective_to_verb('I need to make that bright.', -1 )"
   ]
  },
  {
   "attachments": {},
   "cell_type": "markdown",
   "metadata": {},
   "source": [
    "## Lists"
   ]
  },
  {
   "cell_type": "code",
   "execution_count": 50,
   "metadata": {},
   "outputs": [
    {
     "data": {
      "text/plain": [
       "[27, 28, 29]"
      ]
     },
     "execution_count": 50,
     "metadata": {},
     "output_type": "execute_result"
    }
   ],
   "source": [
    "# 1 uzduotis\n",
    "\n",
    "def get_rounds(number):\n",
    "    return list(range(number, number+3))\n",
    "\n",
    "get_rounds(27)\n"
   ]
  },
  {
   "cell_type": "code",
   "execution_count": 53,
   "metadata": {},
   "outputs": [
    {
     "data": {
      "text/plain": [
       "[27, 28, 29, 35, 36]"
      ]
     },
     "execution_count": 53,
     "metadata": {},
     "output_type": "execute_result"
    }
   ],
   "source": [
    "def concatenate_rounds(rounds_1, rounds_2):\n",
    "    return rounds_1 + rounds_2\n",
    "\n",
    "concatenate_rounds([27,28,29], [35,36])"
   ]
  },
  {
   "cell_type": "code",
   "execution_count": 55,
   "metadata": {},
   "outputs": [
    {
     "data": {
      "text/plain": [
       "True"
      ]
     },
     "execution_count": 55,
     "metadata": {},
     "output_type": "execute_result"
    }
   ],
   "source": [
    "# Implement a function list_contains_round(<rounds>, <round_number>)\n",
    "# that takes two arguments, a list of rounds played and a round number.\n",
    "# The function will return True if the round is in the list of rounds played,\n",
    "# False if not:\n",
    "def list_contains_round(rounds, number):\n",
    "    return number in rounds\n",
    "list_contains_round([27, 28, 29, 35, 36], 29)\n"
   ]
  },
  {
   "cell_type": "code",
   "execution_count": 56,
   "metadata": {},
   "outputs": [
    {
     "data": {
      "text/plain": [
       "6.0"
      ]
     },
     "execution_count": 56,
     "metadata": {},
     "output_type": "execute_result"
    }
   ],
   "source": [
    "def card_average(hand):\n",
    "    total = sum(hand)\n",
    "    num_cards = len(hand)\n",
    "    return total / num_cards\n",
    "card_average([5, 6, 7])"
   ]
  },
  {
   "cell_type": "code",
   "execution_count": 57,
   "metadata": {},
   "outputs": [
    {
     "data": {
      "text/plain": [
       "True"
      ]
     },
     "execution_count": 57,
     "metadata": {},
     "output_type": "execute_result"
    }
   ],
   "source": [
    "def approx_average_is_average(hand):\n",
    "    actual_average = sum(hand) / len(hand)\n",
    "    first_last_avg = (hand[0] + hand[-1]) / 2\n",
    "    middle_card = len(hand) // 2\n",
    "    median = hand[middle_card]\n",
    "\n",
    "    return first_last_avg == actual_average or median == actual_average\n",
    "approx_average_is_average([1, 2, 3])"
   ]
  },
  {
   "cell_type": "code",
   "execution_count": 59,
   "metadata": {},
   "outputs": [
    {
     "data": {
      "text/plain": [
       "True"
      ]
     },
     "execution_count": 59,
     "metadata": {},
     "output_type": "execute_result"
    }
   ],
   "source": [
    "# chatgpt\n",
    "def average_even_is_average_odd(hand):\n",
    "    even_average = sum(hand[::2]) / len(hand[::2])\n",
    "    odd_average = sum(hand[1::2]) / len(hand[1::2])\n",
    "    return even_average == odd_average\n",
    "\n",
    "average_even_is_average_odd([1, 2, 3])\n",
    "    \n"
   ]
  },
  {
   "cell_type": "code",
   "execution_count": 65,
   "metadata": {},
   "outputs": [
    {
     "data": {
      "text/plain": [
       "[5, 9, 22]"
      ]
     },
     "execution_count": 65,
     "metadata": {},
     "output_type": "execute_result"
    }
   ],
   "source": [
    "def maybe_double_last(hand):\n",
    "    if hand[-1] == 11:\n",
    "        hand[-1] *= 2\n",
    "    return hand\n",
    "\n",
    "hand = [5, 9, 11]\n",
    "maybe_double_last(hand)\n",
    "\n",
    "# hand = [5, 9, 10]\n",
    "# maybe_double_last(hand)"
   ]
  },
  {
   "attachments": {},
   "cell_type": "markdown",
   "metadata": {},
   "source": [
    "## List funkcijos"
   ]
  },
  {
   "cell_type": "code",
   "execution_count": 67,
   "metadata": {},
   "outputs": [
    {
     "data": {
      "text/plain": [
       "['Tony', 'Bruce', 'RichieRich']"
      ]
     },
     "execution_count": 67,
     "metadata": {},
     "output_type": "execute_result"
    }
   ],
   "source": [
    "# 1 uzduotis\n",
    "\n",
    "def add_me_to_the_queue(express_queue, normal_queue, ticket_type, person_name):\n",
    "    if ticket_type == 1:\n",
    "        express_queue.append(person_name)\n",
    "        return express_queue\n",
    "    elif ticket_type == 0:\n",
    "        normal_queue.append(person_name)\n",
    "        return normal_queue\n",
    "\n",
    "add_me_to_the_queue(express_queue=[\"Tony\", \"Bruce\"], normal_queue=[\"RobotGuy\", \"WW\"], ticket_type=1, person_name=\"RichieRich\")\n"
   ]
  },
  {
   "cell_type": "code",
   "execution_count": 70,
   "metadata": {},
   "outputs": [
    {
     "data": {
      "text/plain": [
       "1"
      ]
     },
     "execution_count": 70,
     "metadata": {},
     "output_type": "execute_result"
    }
   ],
   "source": [
    "def find_my_friend(queue, friend_name):\n",
    "    if friend_name in queue:\n",
    "        return queue.index(friend_name)\n",
    "\n",
    "\n",
    "find_my_friend(queue=[\"Natasha\", \"Steve\", \"T'challa\", \"Wanda\", \"Rocket\"], friend_name=\"Steve\")"
   ]
  },
  {
   "cell_type": "code",
   "execution_count": 71,
   "metadata": {},
   "outputs": [
    {
     "data": {
      "text/plain": [
       "['Natasha', 'Bucky', 'Steve', \"T'challa\", 'Wanda', 'Rocket']"
      ]
     },
     "execution_count": 71,
     "metadata": {},
     "output_type": "execute_result"
    }
   ],
   "source": [
    "def add_me_with_my_friends(queue, index, person_name):\n",
    "    queue.insert(index, person_name)\n",
    "    return queue\n",
    "\n",
    "add_me_with_my_friends(queue=[\"Natasha\", \"Steve\", \"T'challa\", \"Wanda\", \"Rocket\"], index=1, person_name=\"Bucky\")"
   ]
  },
  {
   "cell_type": "code",
   "execution_count": 75,
   "metadata": {},
   "outputs": [
    {
     "data": {
      "text/plain": [
       "2"
      ]
     },
     "execution_count": 75,
     "metadata": {},
     "output_type": "execute_result"
    }
   ],
   "source": [
    "def how_many_namefellows(queue, person_name):\n",
    "    count = queue.count(person_name)\n",
    "    return count\n",
    "\n",
    "how_many_namefellows(queue=[\"Natasha\", \"Steve\", \"Eltran\", \"Natasha\", \"Rocket\"], person_name=\"Natasha\")"
   ]
  },
  {
   "cell_type": "code",
   "execution_count": 83,
   "metadata": {},
   "outputs": [
    {
     "data": {
      "text/plain": [
       "['Eltran', 'Natasha', 'Natasha', 'Rocket', 'Steve']"
      ]
     },
     "execution_count": 83,
     "metadata": {},
     "output_type": "execute_result"
    }
   ],
   "source": [
    "def sorted_names(queue):\n",
    "    copy = queue.copy()\n",
    "    sorted_queue = sorted(copy)\n",
    "    return sorted_queue\n",
    "\n",
    "sorted_names(queue=[\"Natasha\", \"Steve\", \"Eltran\", \"Natasha\", \"Rocket\"])"
   ]
  }
 ],
 "metadata": {
  "kernelspec": {
   "display_name": "venv",
   "language": "python",
   "name": "python3"
  },
  "language_info": {
   "codemirror_mode": {
    "name": "ipython",
    "version": 3
   },
   "file_extension": ".py",
   "mimetype": "text/x-python",
   "name": "python",
   "nbconvert_exporter": "python",
   "pygments_lexer": "ipython3",
   "version": "3.11.3"
  },
  "orig_nbformat": 4
 },
 "nbformat": 4,
 "nbformat_minor": 2
}
