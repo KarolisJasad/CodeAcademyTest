{
 "cells": [
  {
   "attachments": {},
   "cell_type": "markdown",
   "metadata": {},
   "source": [
    "## Bibliotekos"
   ]
  },
  {
   "cell_type": "code",
   "execution_count": 1,
   "metadata": {},
   "outputs": [
    {
     "name": "stdout",
     "output_type": "stream",
     "text": [
      "54.7399\n"
     ]
    }
   ],
   "source": [
    "import random\n",
    "print(f\"{(random.random() * 100):.4f}\")"
   ]
  },
  {
   "cell_type": "code",
   "execution_count": 2,
   "metadata": {},
   "outputs": [
    {
     "name": "stdout",
     "output_type": "stream",
     "text": [
      "['__doc__', '__loader__', '__name__', '__package__', '__spec__', 'acos', 'acosh', 'asin', 'asinh', 'atan', 'atan2', 'atanh', 'cbrt', 'ceil', 'comb', 'copysign', 'cos', 'cosh', 'degrees', 'dist', 'e', 'erf', 'erfc', 'exp', 'exp2', 'expm1', 'fabs', 'factorial', 'floor', 'fmod', 'frexp', 'fsum', 'gamma', 'gcd', 'hypot', 'inf', 'isclose', 'isfinite', 'isinf', 'isnan', 'isqrt', 'lcm', 'ldexp', 'lgamma', 'log', 'log10', 'log1p', 'log2', 'modf', 'nan', 'nextafter', 'perm', 'pi', 'pow', 'prod', 'radians', 'remainder', 'sin', 'sinh', 'sqrt', 'tan', 'tanh', 'tau', 'trunc', 'ulp']\n"
     ]
    }
   ],
   "source": [
    "import math\n",
    "print(dir(math))"
   ]
  },
  {
   "cell_type": "code",
   "execution_count": 4,
   "metadata": {},
   "outputs": [
    {
     "name": "stdout",
     "output_type": "stream",
     "text": [
      "False\n"
     ]
    }
   ],
   "source": [
    "import calendar\n",
    "print(calendar.isleap(1998))"
   ]
  },
  {
   "cell_type": "code",
   "execution_count": 7,
   "metadata": {},
   "outputs": [
    {
     "name": "stdout",
     "output_type": "stream",
     "text": [
      "(5, 30)\n"
     ]
    }
   ],
   "source": [
    "# Kuri diena pirma menesio diena (Sestadienis, nuo nulio), kiek dienu\n",
    "print(calendar.monthrange(2023, 4))"
   ]
  },
  {
   "cell_type": "code",
   "execution_count": 8,
   "metadata": {},
   "outputs": [
    {
     "name": "stdout",
     "output_type": "stream",
     "text": [
      "Saturday\n"
     ]
    }
   ],
   "source": [
    "print(calendar.day_name[5])"
   ]
  },
  {
   "cell_type": "code",
   "execution_count": 11,
   "metadata": {},
   "outputs": [
    {
     "name": "stdout",
     "output_type": "stream",
     "text": [
      "[18, 40, 49, 59, 61, 75, 79, 85, 97, 98]\n"
     ]
    }
   ],
   "source": [
    "# 1 uzduotis\n",
    "\n",
    "def atsitiktiniai_skaiciai():\n",
    "    atsitiktiniai_skaiciai = [random.randint(1, 100) for _ in range(10)]\n",
    "    rikiuoti_skaiciai = sorted(atsitiktiniai_skaiciai)\n",
    "    print(rikiuoti_skaiciai)\n",
    "\n",
    "atsitiktiniai_skaiciai()"
   ]
  },
  {
   "cell_type": "code",
   "execution_count": 110,
   "metadata": {},
   "outputs": [
    {
     "name": "stdout",
     "output_type": "stream",
     "text": [
      "1\n",
      "5\n",
      "pralaimejai\n"
     ]
    }
   ],
   "source": [
    "# 2 uzduotis\n",
    "def kauliuku_zaidimas():\n",
    "    metimu_skaicius = 0\n",
    "    while (metimu_skaicius < 3):\n",
    "        kauliukas = random.randint(1, 6)\n",
    "        print(kauliukas)\n",
    "        if kauliukas == 5:\n",
    "            print(\"Pralaimėjote, iškrito 5\")\n",
    "            break\n",
    "        metimu_skaicius = metimu_skaicius + 1\n",
    "    else:\n",
    "        print(\"Laimėjote!\")\n",
    "\n",
    "kauliuku_zaidimas()"
   ]
  },
  {
   "cell_type": "code",
   "execution_count": 121,
   "metadata": {},
   "outputs": [
    {
     "name": "stdout",
     "output_type": "stream",
     "text": [
      "     April 2023\n",
      "Mo Tu We Th Fr Sa Su\n",
      "                1  2\n",
      " 3  4  5  6  7  8  9\n",
      "10 11 12 13 14 15 16\n",
      "17 18 19 20 21 22 23\n",
      "24 25 26 27 28 29 30\n",
      "\n",
      "Savaitgalio dienų skaičius nurodytame mėn.: 10\n"
     ]
    }
   ],
   "source": [
    "# 3 uzduotis\n",
    "\n",
    "import calendar\n",
    "\n",
    "def savaitgaliu_skaiciuokle(metai, menesis):\n",
    "    # Spausdiname kalendorių pasirinktam mėnesiui ir metams\n",
    "    kalendorius = calendar.monthcalendar(metai, menesis)\n",
    "    print(calendar.month(metai, menesis))\n",
    "\n",
    "    # Suskaičiuojame savaitgalio dienas\n",
    "    savaitgaliu_skaicius = 0\n",
    "    for savaitgalis in kalendorius:\n",
    "        if savaitgalis[calendar.SATURDAY] != 0:\n",
    "            savaitgaliu_skaicius += 1\n",
    "        if savaitgalis[calendar.SUNDAY] != 0:\n",
    "            savaitgaliu_skaicius += 1\n",
    "\n",
    "    print(f\"Savaitgalio dienų skaičius nurodytame mėn.: {savaitgaliu_skaicius}\")\n",
    "\n",
    "savaitgaliu_skaiciuokle(2023, 4)"
   ]
  },
  {
   "attachments": {},
   "cell_type": "markdown",
   "metadata": {},
   "source": [
    "## Datetime"
   ]
  },
  {
   "cell_type": "code",
   "execution_count": 126,
   "metadata": {},
   "outputs": [
    {
     "name": "stdout",
     "output_type": "stream",
     "text": [
      "2023-04-24 13:05:55 <class 'datetime.datetime'>\n",
      "2023-04-24 13:06:13.988024\n"
     ]
    }
   ],
   "source": [
    "from datetime import datetime\n",
    "dt = datetime(2023, 4, 24, 13, 5, 55)\n",
    "print(dt, type(dt))\n",
    "dabar = datetime.now()\n",
    "print(dabar)"
   ]
  },
  {
   "cell_type": "code",
   "execution_count": 131,
   "metadata": {},
   "outputs": [
    {
     "name": "stdout",
     "output_type": "stream",
     "text": [
      "2023-04-24\n",
      "1998-07-14\n",
      "9050 days, 0:00:00\n"
     ]
    }
   ],
   "source": [
    "from datetime import date\n",
    "siandien = date.today()\n",
    "print(siandien)\n",
    "mano_gimtadienis = date(1998, 7 ,14)\n",
    "print(mano_gimtadienis)\n",
    "amzius = siandien - mano_gimtadienis\n",
    "print(amzius)"
   ]
  },
  {
   "cell_type": "code",
   "execution_count": 136,
   "metadata": {},
   "outputs": [
    {
     "name": "stdout",
     "output_type": "stream",
     "text": [
      "2023-04-24 13:17:47.716882\n"
     ]
    }
   ],
   "source": [
    "from datetime import timedelta\n",
    "uz_penkiu_min = datetime.now() + timedelta(minutes=5)\n",
    "print(uz_penkiu_min)"
   ]
  },
  {
   "cell_type": "code",
   "execution_count": 146,
   "metadata": {},
   "outputs": [
    {
     "name": "stdout",
     "output_type": "stream",
     "text": [
      "2023-04-24 13:18:55\n",
      "2023-04-01 00:00:00 <class 'datetime.datetime'>\n",
      "2023-04-01 00:00:00 <class 'datetime.date'>\n",
      "Monday\n"
     ]
    }
   ],
   "source": [
    "dabar = datetime.now()\n",
    "print(dabar.strftime(\"%Y-%m-%d %H:%M:%S\"))\n",
    "tekstine_data = \"2023-04-1\"\n",
    "objektine_data = datetime.strptime(tekstine_data, \"%Y-%m-%d\")\n",
    "print(objektine_data, type(objektine_data))\n",
    "print(objektine_data, type(objektine_data.date()))\n",
    "print(dabar.strftime(\"%A\"))"
   ]
  },
  {
   "cell_type": "code",
   "execution_count": 147,
   "metadata": {},
   "outputs": [
    {
     "name": "stdout",
     "output_type": "stream",
     "text": [
      "2023-04-24 13:18:55.676587\n",
      "1682331535.0\n"
     ]
    }
   ],
   "source": [
    "import time\n",
    "\n",
    "print(dabar)\n",
    "laiko_zyme = time.mktime(dabar.timetuple())\n",
    "print(laiko_zyme)\n"
   ]
  },
  {
   "cell_type": "code",
   "execution_count": 148,
   "metadata": {},
   "outputs": [
    {
     "name": "stdout",
     "output_type": "stream",
     "text": [
      "2023-04-24 13:18:55\n"
     ]
    }
   ],
   "source": [
    "naujas_dabar = datetime.fromtimestamp(laiko_zyme)\n",
    "print(naujas_dabar)"
   ]
  },
  {
   "cell_type": "code",
   "execution_count": 150,
   "metadata": {},
   "outputs": [
    {
     "name": "stdout",
     "output_type": "stream",
     "text": [
      "34:13\n"
     ]
    }
   ],
   "source": [
    "# 1 uzduotis\n",
    "from datetime import datetime\n",
    "\n",
    "dabar = datetime.now()\n",
    "print(dabar.strftime(\"%M:%S\"))"
   ]
  },
  {
   "cell_type": "code",
   "execution_count": 162,
   "metadata": {},
   "outputs": [
    {
     "name": "stdout",
     "output_type": "stream",
     "text": [
      "1998-07-14 00:00:00\n",
      "Iki gimtadienio liko: 80 dienos\n"
     ]
    }
   ],
   "source": [
    "# 2 uzduotis\n",
    "from datetime import datetime\n",
    "\n",
    "def dienos_iki_gimtadienio(siu_metu_gimtadienis):\n",
    "    dabar = datetime.now()\n",
    "    siu_metu_gimtadienis = datetime(dabar.year, siu_metu_gimtadienis.month, siu_metu_gimtadienis.day)\n",
    "\n",
    "    if siu_metu_gimtadienis < dabar:\n",
    "        gimtadienis_kitais_metais = datetime(dabar.year + 1, siu_metu_gimtadienis.month, siu_metu_gimtadienis.day)\n",
    "        laikas_iki_gimtadienio = gimtadienis_kitais_metais - dabar\n",
    "    else:\n",
    "        laikas_iki_gimtadienio = siu_metu_gimtadienis - dabar\n",
    "\n",
    "    laikas_iki_gimtadienio = laikas_iki_gimtadienio.days\n",
    "    return laikas_iki_gimtadienio\n",
    "\n",
    "gimtadienio_data = input(\"Įveskite gimimo dienos datą formatu metai-menesis-diena\")\n",
    "gimtadienis = datetime.strptime(gimtadienio_data, \"%Y-%m-%d\")\n",
    "print(gimtadienis)\n",
    "\n",
    "iki_gimtadienio_liko = dienos_iki_gimtadienio(gimtadienis)\n",
    "print(f\"Iki gimtadienio liko: {iki_gimtadienio_liko} dienos\")"
   ]
  },
  {
   "cell_type": "code",
   "execution_count": 175,
   "metadata": {},
   "outputs": [
    {
     "name": "stdout",
     "output_type": "stream",
     "text": [
      "Laikas nepridėjus valandų: 2023-04-24 2:14\n",
      "Pridėjus 48 valandos: 2023-04-26 02:14\n"
     ]
    }
   ],
   "source": [
    "# 3 uzduotis\n",
    "\n",
    "from datetime import datetime, timedelta\n",
    "\n",
    "def pridetos_48valandos(data_laikas):\n",
    "    formatuota_data = datetime.strptime(data_laikas, \"%Y-%m-%d %H:%M\")\n",
    "    nauja_data_datetime = formatuota_data + timedelta(hours=48)\n",
    "    nauja_data_str = nauja_data_datetime.strftime(\"%Y-%m-%d %H:%M\")\n",
    "    return nauja_data_str\n",
    "\n",
    "data_laikas_input = input(\"Įveskite datą formatu metai-menesis-diena ir valanda:minutes \")\n",
    "print(f\"Laikas nepridėjus valandų: {data_laikas_input}\")\n",
    "\n",
    "nauja_data_str = pridetos_48valandos(data_laikas_input)\n",
    "nauja_data = datetime.strptime(nauja_data_str, \"%Y-%m-%d %H:%M\")\n",
    "print(f\"Pridėjus 48 valandos: {nauja_data.strftime('%Y-%m-%d %H:%M')}\")"
   ]
  },
  {
   "cell_type": "code",
   "execution_count": 174,
   "metadata": {},
   "outputs": [
    {
     "name": "stdout",
     "output_type": "stream",
     "text": [
      "Laikotarpių skirtumas dienomis: 0:11:06\n"
     ]
    }
   ],
   "source": [
    "# 4 uzduotis\n",
    "\n",
    "from datetime import datetime\n",
    "\n",
    "def skirtumas_dienomis(timestamp1, timestamp2):\n",
    "    laikas1 = datetime.fromtimestamp(timestamp1)\n",
    "    laikas2 = datetime.fromtimestamp(timestamp2)\n",
    "    skirtumas = abs(laikas2 - laikas1)\n",
    "    return skirtumas\n",
    "\n",
    "timestamp1 = int(input(\"Įveskite pirmą timestamp skaičių: \"))\n",
    "timestamp2 = int(input(\"Įveskite antrą timestamp skaičių: \"))\n",
    "print(f\"Laikotarpių skirtumas dienomis: {skirtumas_dienomis(timestamp1, timestamp2)}\")"
   ]
  },
  {
   "cell_type": "code",
   "execution_count": 177,
   "metadata": {},
   "outputs": [
    {
     "name": "stdout",
     "output_type": "stream",
     "text": [
      "Thursday\n",
      "Monday\n"
     ]
    }
   ],
   "source": [
    "# 5 uzduotis\n",
    "from datetime import datetime\n",
    "\n",
    "def savaites_diena(data):\n",
    "    data = datetime.strptime(data, \"%Y-%m-%d\")\n",
    "    savaites_diena = data.strftime(\"%A\")\n",
    "    return savaites_diena\n",
    "\n",
    "data1 = \"2023-06-01\"\n",
    "data2 = \"2023-04-24\"\n",
    "\n",
    "print(savaites_diena(data1))\n",
    "print(savaites_diena(data2))"
   ]
  },
  {
   "attachments": {},
   "cell_type": "markdown",
   "metadata": {},
   "source": [
    "## Laiko zonos"
   ]
  },
  {
   "cell_type": "code",
   "execution_count": 185,
   "metadata": {},
   "outputs": [
    {
     "name": "stdout",
     "output_type": "stream",
     "text": [
      "America/Guayaquil\n",
      "America/Lower_Princes\n",
      "America/Indiana/Knox\n",
      "America/Chicago\n",
      "America/Boa_Vista\n",
      "America/Adak\n",
      "America/Guadeloupe\n",
      "America/North_Dakota/New_Salem\n",
      "America/Maceio\n",
      "America/Blanc-Sablon\n",
      "America/Paramaribo\n",
      "America/Belem\n",
      "America/Montevideo\n",
      "America/Cancun\n",
      "America/St_Thomas\n",
      "America/Martinique\n",
      "America/Regina\n",
      "America/Indiana/Petersburg\n",
      "America/Juneau\n",
      "America/Noronha\n",
      "America/Rosario\n",
      "America/Thunder_Bay\n",
      "America/Argentina/Jujuy\n",
      "America/Halifax\n",
      "America/Moncton\n",
      "America/Goose_Bay\n",
      "America/Hermosillo\n",
      "America/Ensenada\n",
      "America/Marigot\n",
      "America/Lima\n",
      "America/Mexico_City\n",
      "America/Campo_Grande\n",
      "America/Costa_Rica\n",
      "America/Indiana/Vevay\n",
      "America/Argentina/Rio_Gallegos\n",
      "America/Tegucigalpa\n",
      "America/Anchorage\n",
      "America/Panama\n",
      "America/Glace_Bay\n",
      "America/Santa_Isabel\n",
      "America/Antigua\n",
      "America/Rainy_River\n",
      "America/St_Johns\n",
      "America/Manaus\n",
      "America/Swift_Current\n",
      "America/Fortaleza\n",
      "America/Ciudad_Juarez\n",
      "America/Porto_Acre\n",
      "America/Dominica\n",
      "America/Tijuana\n",
      "America/St_Lucia\n",
      "America/Coral_Harbour\n",
      "America/Jamaica\n",
      "America/Sao_Paulo\n",
      "America/North_Dakota/Center\n",
      "America/Indiana/Indianapolis\n",
      "America/Indiana/Winamac\n",
      "America/Metlakatla\n",
      "America/Santiago\n",
      "America/Argentina/Cordoba\n",
      "America/Argentina/La_Rioja\n",
      "America/Indiana/Tell_City\n",
      "America/El_Salvador\n",
      "America/Resolute\n",
      "America/Jujuy\n",
      "America/Guatemala\n",
      "America/Argentina/San_Juan\n",
      "America/Iqaluit\n",
      "America/Fort_Wayne\n",
      "America/Nipigon\n",
      "America/Kralendijk\n",
      "America/Kentucky/Monticello\n",
      "America/Pangnirtung\n",
      "America/Port_of_Spain\n",
      "America/Grand_Turk\n",
      "America/Santo_Domingo\n",
      "America/Argentina/Tucuman\n",
      "America/Indiana/Vincennes\n",
      "America/Mendoza\n",
      "America/Tortola\n",
      "America/Indianapolis\n",
      "America/Nassau\n",
      "America/Puerto_Rico\n",
      "America/Nome\n",
      "America/Detroit\n",
      "America/Asuncion\n",
      "America/St_Vincent\n",
      "America/Monterrey\n",
      "America/St_Barthelemy\n",
      "America/Santarem\n",
      "America/Vancouver\n",
      "America/Port-au-Prince\n",
      "America/Atikokan\n",
      "America/Curacao\n",
      "America/Los_Angeles\n",
      "America/Whitehorse\n",
      "America/Godthab\n",
      "America/Belize\n",
      "America/Shiprock\n",
      "America/Cuiaba\n",
      "America/Creston\n",
      "America/Guyana\n",
      "America/Chihuahua\n",
      "America/Denver\n",
      "America/Thule\n",
      "America/Atka\n",
      "America/Merida\n",
      "America/Argentina/ComodRivadavia\n",
      "America/Fort_Nelson\n",
      "America/Aruba\n",
      "America/La_Paz\n",
      "America/Menominee\n",
      "America/Toronto\n",
      "America/Managua\n",
      "America/Montreal\n",
      "America/Barbados\n",
      "America/North_Dakota/Beulah\n",
      "America/St_Kitts\n",
      "America/Argentina/Ushuaia\n",
      "America/Yellowknife\n",
      "America/Buenos_Aires\n",
      "America/Indiana/Marengo\n",
      "America/Yakutat\n",
      "America/Havana\n",
      "America/Sitka\n",
      "America/Phoenix\n",
      "America/Caracas\n",
      "America/Argentina/Buenos_Aires\n",
      "America/Cayenne\n",
      "America/Rio_Branco\n",
      "America/Punta_Arenas\n",
      "America/Danmarkshavn\n",
      "America/Matamoros\n",
      "America/Bahia\n",
      "America/Inuvik\n",
      "America/Virgin\n",
      "America/Eirunepe\n",
      "America/Catamarca\n",
      "America/Anguilla\n",
      "America/Argentina/Mendoza\n",
      "America/Bahia_Banderas\n",
      "America/Dawson\n",
      "America/Louisville\n",
      "America/Boise\n",
      "America/Argentina/Salta\n",
      "America/Recife\n",
      "America/Winnipeg\n",
      "America/Grenada\n",
      "America/Porto_Velho\n",
      "America/Miquelon\n",
      "America/Cambridge_Bay\n",
      "America/Dawson_Creek\n",
      "America/Cordoba\n",
      "America/New_York\n",
      "America/Montserrat\n",
      "America/Cayman\n",
      "America/Scoresbysund\n",
      "America/Bogota\n",
      "America/Mazatlan\n",
      "America/Argentina/Catamarca\n",
      "America/Rankin_Inlet\n",
      "America/Kentucky/Louisville\n",
      "America/Knox_IN\n",
      "America/Nuuk\n",
      "America/Edmonton\n",
      "America/Argentina/San_Luis\n",
      "America/Araguaina\n",
      "America/Ojinaga\n"
     ]
    }
   ],
   "source": [
    "from zoneinfo import available_timezones\n",
    "\n",
    "america_time_zones = []\n",
    "\n",
    "for timezone in available_timezones():\n",
    "    if \"America\" in timezone:\n",
    "        america_time_zones.append(timezone)\n",
    "\n",
    "for time_zone in america_time_zones:\n",
    "    print(time_zone)"
   ]
  },
  {
   "cell_type": "code",
   "execution_count": 10,
   "metadata": {},
   "outputs": [],
   "source": [
    "from zoneinfo import available_timezones\n",
    "\n",
    "for time_zone in available_timezones():\n",
    "    print(time_zone)"
   ]
  }
 ],
 "metadata": {
  "kernelspec": {
   "display_name": "venv",
   "language": "python",
   "name": "python3"
  },
  "language_info": {
   "codemirror_mode": {
    "name": "ipython",
    "version": 3
   },
   "file_extension": ".py",
   "mimetype": "text/x-python",
   "name": "python",
   "nbconvert_exporter": "python",
   "pygments_lexer": "ipython3",
   "version": "3.11.3"
  },
  "orig_nbformat": 4
 },
 "nbformat": 4,
 "nbformat_minor": 2
}
