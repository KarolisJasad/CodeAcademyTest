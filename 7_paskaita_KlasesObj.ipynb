{
 "cells": [
  {
   "attachments": {},
   "cell_type": "markdown",
   "metadata": {},
   "source": [
    "## Objektinis Programjavimas"
   ]
  },
  {
   "attachments": {},
   "cell_type": "markdown",
   "metadata": {},
   "source": [
    "### Klases"
   ]
  },
  {
   "cell_type": "code",
   "execution_count": 1,
   "metadata": {},
   "outputs": [
    {
     "name": "stdout",
     "output_type": "stream",
     "text": [
      "Fiat 500 1990\n"
     ]
    }
   ],
   "source": [
    "# Klasės aprašymas\n",
    "class Automobilis():\n",
    "    marke = ''\n",
    "    modelis = ''\n",
    "\n",
    "pirmas_automobilis = Automobilis()\n",
    "pirmas_automobilis.marke = \"Fiat\"\n",
    "pirmas_automobilis.modelis = \"500\"\n",
    "pirmas_automobilis.metai = 1990\n",
    "\n",
    "print(pirmas_automobilis.marke, pirmas_automobilis.modelis, pirmas_automobilis.metai)"
   ]
  },
  {
   "cell_type": "code",
   "execution_count": 4,
   "metadata": {},
   "outputs": [
    {
     "name": "stdout",
     "output_type": "stream",
     "text": [
      "Darbuotojo pareigos: Programuotojas\n",
      "Darbuotojo atlyginimas: 1000\n",
      "Darbuotojas: Tadas Petraitis, pareigos: Programuotojas, atlyginimas: 2500\n"
     ]
    }
   ],
   "source": [
    "# 1 užduotis\n",
    "\n",
    "class Darbuotojas:\n",
    "    def __init__(self, vardas, pavarde, pareigos, atlyginimas=1000):\n",
    "        self.vardas = vardas\n",
    "        self.pavarde = pavarde\n",
    "        self.pareigos = pareigos\n",
    "        self.atlyginimas = atlyginimas\n",
    "\n",
    "    def __str__(self):\n",
    "        return f'{self.vardas} {self.pavarde}, pareigos: {self.pareigos}, atlyginimas: {self.atlyginimas}'\n",
    "\n",
    "darbuotojas = Darbuotojas('Tadas', 'Petraitis', 'Programuotojas')\n",
    "\n",
    "print('Darbuotojo pareigos:', darbuotojas.pareigos)\n",
    "print('Darbuotojo atlyginimas:', darbuotojas.atlyginimas)\n",
    "\n",
    "darbuotojas.atlyginimas = 2500\n",
    "\n",
    "print('Darbuotojas:', darbuotojas)"
   ]
  },
  {
   "cell_type": "code",
   "execution_count": 5,
   "metadata": {},
   "outputs": [
    {
     "name": "stdout",
     "output_type": "stream",
     "text": [
      "Gyvūnas vardu Reksas yra 5 metų ir sveria 20 kg\n",
      "Gyvūnas vardu Reksas yra 5 metų ir sveria 25 kg\n",
      "Gyvūnas vardu Reksas yra 6 metų ir sveria 25 kg\n",
      "Gyvūnas vardu Reksas yra 6 metų ir sveria 22 kg\n"
     ]
    }
   ],
   "source": [
    "# 2 užduotis\n",
    "\n",
    "class Gyvunas:\n",
    "    def __init__(self, vardas, amzius, svoris):\n",
    "        self.vardas = vardas\n",
    "        self.amzius = amzius\n",
    "        self.svoris = svoris\n",
    "    \n",
    "    def padidinti_svori(self, kiek):\n",
    "        self.svoris += kiek\n",
    "    \n",
    "    def sumazinti_svori(self, kiek):\n",
    "        self.svoris -= kiek\n",
    "\n",
    "    def pasikeites_amzius(self):\n",
    "        self.amzius += 1\n",
    "        \n",
    "    def __str__(self):\n",
    "        return f'Gyvūnas vardu {self.vardas} yra {self.amzius} metų ir sveria {self.svoris} kg'\n",
    "\n",
    "gyvunas = Gyvunas('Reksas', 5, 20)\n",
    "print(gyvunas)\n",
    "\n",
    "gyvunas.padidinti_svori(5)\n",
    "print(gyvunas)\n",
    "\n",
    "gyvunas.pasikeites_amzius()\n",
    "print(gyvunas)\n",
    "\n",
    "gyvunas.sumazinti_svori(3)\n",
    "print(gyvunas)"
   ]
  },
  {
   "attachments": {},
   "cell_type": "markdown",
   "metadata": {},
   "source": [
    "### Inkapsuliacija"
   ]
  },
  {
   "cell_type": "code",
   "execution_count": 14,
   "metadata": {},
   "outputs": [
    {
     "name": "stdout",
     "output_type": "stream",
     "text": [
      "Neteisingas slaptažodis\n",
      "200 € nuskaityti. Saskaitos likutis: 550 €\n",
      "500 € papildyta. Saskaitos likutis: 1050 €\n",
      "Neteisingas slaptažodis\n"
     ]
    }
   ],
   "source": [
    "# 1 užduotis\n",
    "\n",
    "class BankoSaskaita:\n",
    "    def __init__(self, saskaitos_numeris, savininkas, balansas, pin_kodas):\n",
    "        self.saskaitos_numeris = saskaitos_numeris\n",
    "        self.savininkas = savininkas\n",
    "        self.__balansas = balansas\n",
    "        self.__pin_kodas = pin_kodas\n",
    "\n",
    "    def nuskaityti(self, suma, pin_kodas):\n",
    "        if pin_kodas == self.__pin_kodas:\n",
    "            self.__balansas -= suma\n",
    "            print(f'{suma} € nuskaityti. Saskaitos likutis: {self.__balansas} €')\n",
    "        else:\n",
    "            print('Neteisingas slaptažodis')\n",
    "\n",
    "    def papildyti(self, suma, pin_kodas):\n",
    "        if pin_kodas == self.__pin_kodas:\n",
    "            self.__balansas += suma\n",
    "            print(f'{suma} € papildyta. Saskaitos likutis: {self.__balansas} €')\n",
    "        else:\n",
    "            print('Neteisingas slaptažodis')\n",
    "\n",
    "saskaita = BankoSaskaita('LT123456789', 'Jonas Jonaitis', 750, 1234)\n",
    "\n",
    "saskaita.nuskaityti(100, 1122)\n",
    "saskaita.nuskaityti(200, 1234)\n",
    "saskaita.papildyti(500, 1234)\n",
    "saskaita.papildyti(500, 75)"
   ]
  },
  {
   "cell_type": "code",
   "execution_count": 35,
   "metadata": {},
   "outputs": [
    {
     "name": "stdout",
     "output_type": "stream",
     "text": [
      "Python programavimo kalba\n",
      "Guido van Rossum\n",
      "prasta\n",
      "350\n"
     ]
    }
   ],
   "source": [
    "class Knyga:\n",
    "    def __init__(self, pavadinimas, autorius, bukle, puslapiai):\n",
    "        self.__pavadinimas = pavadinimas\n",
    "        self.__autorius = autorius\n",
    "        self.__bukle = bukle\n",
    "        self.__puslapiai = puslapiai\n",
    "\n",
    "    def gauti_pavadinima(self):\n",
    "        return self.__pavadinimas\n",
    "\n",
    "    def gauti_autoriu(self):\n",
    "        return self.__autorius\n",
    "\n",
    "    def gauti_bukle(self):\n",
    "        return self.__bukle\n",
    "\n",
    "    def gauti_puslapius(self):\n",
    "        return self.__puslapiai\n",
    "\n",
    "    def pakeisti_bukle(self, bukle):\n",
    "        if bukle in ('patenkinama', 'prasta', 'atnaujinta', 'sugadinta'):\n",
    "            self.__bukle = bukle\n",
    "        else:\n",
    "            print(f'negalima pakeisti būklės į {bukle}.')\n",
    "\n",
    "    def __naujas_puslapiu_skaicius(self, puslapiai):\n",
    "        self.__puslapiai = puslapiai\n",
    "\n",
    "    def isplesti_puslapius(self, puslapiai):\n",
    "        if abs(puslapiai) <= self.__puslapiai:\n",
    "            self.__naujas_puslapiu_skaicius(self.__puslapiai - abs(puslapiai))\n",
    "        else:\n",
    "            self.__puslapiai = 0\n",
    "\n",
    "knyga = Knyga(\"Python programavimo kalba\", \"Guido van Rossum\", 'nauja', 400)\n",
    "\n",
    "knyga.isplesti_puslapius(50)\n",
    "knyga.pakeisti_bukle('prasta')\n",
    "print(knyga.gauti_pavadinima())\n",
    "print(knyga.gauti_autoriu())\n",
    "print(knyga.gauti_bukle())\n",
    "print(knyga.gauti_puslapius())"
   ]
  },
  {
   "cell_type": "code",
   "execution_count": 49,
   "metadata": {},
   "outputs": [
    {
     "name": "stdout",
     "output_type": "stream",
     "text": [
      "Automobilio pavadinimas BMW\n",
      "Automobilio rida 220\n",
      "Nauja automobilio rida papildyta 10 km\n",
      "Automobilio rida po pakeitimo 230\n"
     ]
    }
   ],
   "source": [
    "# 3 užduotis\n",
    "\n",
    "class AutomoblioRida:\n",
    "    def __init__(self, automobilis, rida):\n",
    "        self.__automobilis = automobilis\n",
    "        self.__rida = rida\n",
    "\n",
    "    def automobilio_pavadinimas(self):\n",
    "        return self.__automobilis\n",
    "    \n",
    "    def automobilio_rida(self):\n",
    "        return self.__rida\n",
    "    \n",
    "    def __nauja_rida(self, rida):\n",
    "        self.__nauja_rida = rida\n",
    "    \n",
    "    def rida(self, rida):\n",
    "        if self.__rida + rida >= self.__rida:\n",
    "            # self.__rida += abs(rida)\n",
    "            self.__rida = self.__rida + abs(rida)\n",
    "            print(f\"Nauja automobilio rida papildyta {rida} km\")\n",
    "        else:\n",
    "            print(f\"Automobilio ridos negalima keisti atbuline tvarka\")\n",
    "\n",
    "bmw = AutomoblioRida(\"BMW\", 220)\n",
    "\n",
    "print(\"Automobilio pavadinimas\", bmw.automobilio_pavadinimas())\n",
    "print(\"Automobilio rida\", bmw.automobilio_rida())\n",
    "bmw.rida(10)\n",
    "print(\"Automobilio rida po pakeitimo\", bmw.automobilio_rida())\n"
   ]
  }
 ],
 "metadata": {
  "kernelspec": {
   "display_name": "venv",
   "language": "python",
   "name": "python3"
  },
  "language_info": {
   "codemirror_mode": {
    "name": "ipython",
    "version": 3
   },
   "file_extension": ".py",
   "mimetype": "text/x-python",
   "name": "python",
   "nbconvert_exporter": "python",
   "pygments_lexer": "ipython3",
   "version": "3.11.3"
  },
  "orig_nbformat": 4
 },
 "nbformat": 4,
 "nbformat_minor": 2
}
