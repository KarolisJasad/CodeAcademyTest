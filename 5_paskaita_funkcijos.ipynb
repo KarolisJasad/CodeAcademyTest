{
 "cells": [
  {
   "attachments": {},
   "cell_type": "markdown",
   "metadata": {},
   "source": [
    "## Funkcijos"
   ]
  },
  {
   "cell_type": "code",
   "execution_count": 1,
   "metadata": {},
   "outputs": [
    {
     "name": "stdout",
     "output_type": "stream",
     "text": [
      "Įvestas skaičius yra nelyginis.\n"
     ]
    }
   ],
   "source": [
    "# 1 užduotis\n",
    "\n",
    "def lyginis_nelyginis(skaicius):\n",
    "    if skaicius % 2 == 0:\n",
    "        print(\"Įvestas skaičius yra lyginis.\")\n",
    "    else:\n",
    "        print(\"Įvestas skaičius yra nelyginis.\")\n",
    "lyginis_nelyginis(5)"
   ]
  },
  {
   "cell_type": "code",
   "execution_count": 2,
   "metadata": {},
   "outputs": [
    {
     "name": "stdout",
     "output_type": "stream",
     "text": [
      "Įvestas skaičius yra teigiamas.\n"
     ]
    }
   ],
   "source": [
    "# 2 užduotis\n",
    "\n",
    "def ar_teigiamas(skaicius):\n",
    "    if skaicius > 0:\n",
    "        print(\"Įvestas skaičius yra teigiamas.\")\n",
    "    else:\n",
    "        print(\"Įvestas skaičius nėra teigiamas.\")\n",
    "ar_teigiamas(4)"
   ]
  },
  {
   "cell_type": "code",
   "execution_count": 3,
   "metadata": {},
   "outputs": [
    {
     "name": "stdout",
     "output_type": "stream",
     "text": [
      "Įvestas skaičius žemesnis už šią ribą: 7.\n"
     ]
    }
   ],
   "source": [
    "# 3 užduotis\n",
    "\n",
    "def ar_daugiau_nei(skaicius, riba):\n",
    "    if skaicius > riba:\n",
    "        print(f\"Įvestas skaičius didesnis už šią ribą: {riba}.\")\n",
    "    else:\n",
    "        print(f\"Įvestas skaičius žemesnis už šią ribą: {riba}.\")\n",
    "ar_daugiau_nei(5,7)"
   ]
  },
  {
   "attachments": {},
   "cell_type": "markdown",
   "metadata": {},
   "source": [
    "## Funkcijos 2"
   ]
  },
  {
   "cell_type": "code",
   "execution_count": 8,
   "metadata": {},
   "outputs": [
    {
     "data": {
      "text/plain": [
       "[5, 4, 3, 2, 1]"
      ]
     },
     "execution_count": 8,
     "metadata": {},
     "output_type": "execute_result"
    }
   ],
   "source": [
    "# 1 užduotis\n",
    "skaiciu_sarasas = [1, 2, 3, 4, 5]\n",
    "def sarasas_atkirksciai(sarasas):\n",
    "    return sarasas[::-1]\n",
    "\n",
    "sarasas_atkirksciai(skaiciu_sarasas)"
   ]
  },
  {
   "cell_type": "code",
   "execution_count": 13,
   "metadata": {},
   "outputs": [
    {
     "data": {
      "text/plain": [
       "6.0"
      ]
     },
     "execution_count": 13,
     "metadata": {},
     "output_type": "execute_result"
    }
   ],
   "source": [
    "# 2 užduotis\n",
    "def trikampio_plotas(a, b):\n",
    "    plotas = (a*b) / 2\n",
    "    return plotas\n",
    "\n",
    "trikampio_plotas(3,4)\n"
   ]
  },
  {
   "cell_type": "code",
   "execution_count": 10,
   "metadata": {},
   "outputs": [
    {
     "name": "stdout",
     "output_type": "stream",
     "text": [
      "['gerų']\n"
     ]
    }
   ],
   "source": [
    "# 3 užduotis\n",
    "def saras_pagal_ilgi(sakinys, ilgis):\n",
    "    zodziai = sakinys.split()\n",
    "    atrinkti_zodziai =[]\n",
    "    for zodis in zodziai:\n",
    "        if len(zodis) == ilgis:\n",
    "            atrinkti_zodziai.append(zodis)\n",
    "    return atrinkti_zodziai\n",
    "\n",
    "sakinys = \"Sveiki kolegos, gerų pietų\"\n",
    "\n",
    "print(saras_pagal_ilgi(sakinys,4))"
   ]
  },
  {
   "cell_type": "code",
   "execution_count": 11,
   "metadata": {},
   "outputs": [
    {
     "name": "stdout",
     "output_type": "stream",
     "text": [
      "19\n"
     ]
    }
   ],
   "source": [
    "# 4 užduotis\n",
    "def didziausias_skaicius(sarasas):\n",
    "    didziausias = sarasas[0]\n",
    "    for skaicius in sarasas:\n",
    "        if skaicius > didziausias:\n",
    "            didziausias = skaicius\n",
    "    return didziausias\n",
    "\n",
    "skaiciai = [4,6,7,2,4,9,1,19]\n",
    "print(didziausias_skaicius(skaiciai))"
   ]
  },
  {
   "cell_type": "code",
   "execution_count": 17,
   "metadata": {},
   "outputs": [
    {
     "name": "stdout",
     "output_type": "stream",
     "text": [
      "['sarasas', 'segtuvas']\n"
     ]
    }
   ],
   "source": [
    "def zodziu_rinkimas(zodziai, raide):\n",
    "    sarasas_pagal_raide = []\n",
    "    for zodis in zodziai:\n",
    "        if zodis[0] == raide:\n",
    "            sarasas_pagal_raide.append(zodis)\n",
    "    return sarasas_pagal_raide\n",
    "\n",
    "zodziai = [\"knyga\", \"popierius\", \"sarasas\", \"zurnalas\", \"segtuvas\"]\n",
    "print(zodziu_rinkimas(zodziai, 's'))\n"
   ]
  },
  {
   "cell_type": "code",
   "execution_count": 28,
   "metadata": {},
   "outputs": [
    {
     "name": "stdout",
     "output_type": "stream",
     "text": [
      "['Sveiki', 'eisime', 'pietauti', 'ir', 'pailseti']\n"
     ]
    }
   ],
   "source": [
    "def zodziai_jei_lyginis(sakinys):\n",
    "    zodziai = sakinys.split()\n",
    "    lyginiai_zodziai = []\n",
    "    for zodis in zodziai:\n",
    "        if len(zodis) %2 == 0:\n",
    "            lyginiai_zodziai.append(zodis)\n",
    "    return lyginiai_zodziai\n",
    "\n",
    "sakinys = \"Sveiki kolegos eisime greitai pietauti ir pailseti\"\n",
    "lyginiai_zodziai = zodziai_jei_lyginis(sakinys)\n",
    "print(lyginiai_zodziai)"
   ]
  },
  {
   "attachments": {},
   "cell_type": "markdown",
   "metadata": {},
   "source": [
    "## Funkcijos/Nebūtini argumentai"
   ]
  },
  {
   "cell_type": "code",
   "execution_count": 42,
   "metadata": {},
   "outputs": [
    {
     "name": "stdout",
     "output_type": "stream",
     "text": [
      "Apskritimo plotas: 12.56\n"
     ]
    }
   ],
   "source": [
    "# 1 užduotis\n",
    "\n",
    "def apskritimo_plotas(spindulys, pi=3.14):\n",
    "    plotas = pi *(spindulys**2)\n",
    "\n",
    "    return plotas\n",
    "\n",
    "print(\"Apskritimo plotas:\" ,apskritimo_plotas(2))\n"
   ]
  },
  {
   "cell_type": "code",
   "execution_count": 79,
   "metadata": {},
   "outputs": [
    {
     "data": {
      "text/plain": [
       "{'Nuvaziuotas atstumas': 450, 'Kuro sanaudos': 3150, 'Keliones islaidos': 8.4}"
      ]
     },
     "execution_count": 79,
     "metadata": {},
     "output_type": "execute_result"
    }
   ],
   "source": [
    "# 2 užduotis\n",
    "\n",
    "def keliones_informacija(keliones_trukme, greitis, vartojimas=7, kuro_kaina=1.2):\n",
    "    nuvaziuotas_atstumas = keliones_trukme * greitis\n",
    "    kuro_sanaudos = nuvaziuotas_atstumas * vartojimas\n",
    "    kelions_islaidos = vartojimas * kuro_kaina\n",
    "    return {\n",
    "        'Nuvaziuotas atstumas' : nuvaziuotas_atstumas,\n",
    "        'Kuro sanaudos' : kuro_sanaudos,\n",
    "        'Keliones islaidos' : kelions_islaidos\n",
    "    }\n",
    "\n",
    "keliones_informacija(5, 90)"
   ]
  },
  {
   "attachments": {},
   "cell_type": "markdown",
   "metadata": {},
   "source": [
    "## Funkcijos neriboti argumentai"
   ]
  },
  {
   "cell_type": "code",
   "execution_count": 63,
   "metadata": {},
   "outputs": [
    {
     "name": "stdout",
     "output_type": "stream",
     "text": [
      "153\n"
     ]
    }
   ],
   "source": [
    "# 1 užduotis\n",
    "\n",
    "def didziausias_skaicius(*args):\n",
    "    didziausia_reiksme = args[0]\n",
    "    for arg in args:\n",
    "        if arg > didziausia_reiksme:\n",
    "            didziausia_reiksme = arg\n",
    "    return didziausia_reiksme\n",
    "\n",
    "print(didziausias_skaicius(0, 6, 82, 1 ,153))"
   ]
  },
  {
   "cell_type": "code",
   "execution_count": 64,
   "metadata": {},
   "outputs": [
    {
     "name": "stdout",
     "output_type": "stream",
     "text": [
      "{'vardas': 'Jonas', 'amzius': 30, 'miestas': 'Vilnius'}\n",
      "{}\n",
      "{'vardas': 'Jonas'}\n"
     ]
    }
   ],
   "source": [
    "# 2 užduotis\n",
    "\n",
    "def elemento_raktai(**kwargs):\n",
    "    nurodyti_raktai = {}\n",
    "    for raktas in kwargs:\n",
    "        if raktas in [\"vardas\", \"amzius\", \"miestas\", \"metai\", \"issilavinimas\"]:\n",
    "            nurodyti_raktai[raktas] = kwargs[raktas]\n",
    "    return nurodyti_raktai\n",
    "\n",
    "print(elemento_raktai(vardas=\"Jonas\", amzius=30, miestas=\"Vilnius\")) \n",
    "print(elemento_raktai(gimine=\"Sena\"))\n",
    "print(elemento_raktai(vardas=\"Jonas\"))"
   ]
  },
  {
   "cell_type": "code",
   "execution_count": 78,
   "metadata": {},
   "outputs": [
    {
     "data": {
      "text/plain": [
       "['Tadas', 'buvo', 'cia', 1984]"
      ]
     },
     "execution_count": 78,
     "metadata": {},
     "output_type": "execute_result"
    }
   ],
   "source": [
    "# 3 užduotis\n",
    "\n",
    "def sujungimas_sarasu(*args, **kwargs):\n",
    "    sujungti_sarasai = list(args)\n",
    "    sujungti_sarasai = sujungti_sarasai + list(kwargs.values())\n",
    "    return sujungti_sarasai\n",
    "\n",
    "sujungimas_sarasu(\"Tadas\", \"buvo\", \"cia\", metai = 1984)"
   ]
  },
  {
   "attachments": {},
   "cell_type": "markdown",
   "metadata": {},
   "source": [
    "## Localus/Globalus kintamieji\n",
    "### Localius kintamuosius galime redaguoti ir funkcijojs naudojant global (x)\n",
    "### pakeitus tokiu budu funkcijoj, toliau kode naudosime pakeista reiksme"
   ]
  },
  {
   "attachments": {},
   "cell_type": "markdown",
   "metadata": {},
   "source": [
    "## Anoniminės funkcijos lambda"
   ]
  },
  {
   "cell_type": "code",
   "execution_count": 89,
   "metadata": {},
   "outputs": [
    {
     "name": "stdout",
     "output_type": "stream",
     "text": [
      "[30, 50]\n"
     ]
    }
   ],
   "source": [
    "# 1 užduotis\n",
    "\n",
    "skaiciai = [1, 2, 6, 30, 50]\n",
    "daugiau_nei_10 = lambda x: x > 10\n",
    "print(list(filter(daugiau_nei_10, skaiciai)))"
   ]
  },
  {
   "cell_type": "code",
   "execution_count": 85,
   "metadata": {},
   "outputs": [
    {
     "name": "stdout",
     "output_type": "stream",
     "text": [
      "3.0\n"
     ]
    }
   ],
   "source": [
    "# 2 užduotis\n",
    "\n",
    "skaiciai = [1,2,3,4,5]\n",
    "vidurkis = lambda x: sum(x) / len(x)\n",
    "\n",
    "print(vidurkis(skaiciai))"
   ]
  },
  {
   "cell_type": "code",
   "execution_count": 92,
   "metadata": {},
   "outputs": [
    {
     "name": "stdout",
     "output_type": "stream",
     "text": [
      "9\n"
     ]
    }
   ],
   "source": [
    "# 3 užduotis\n",
    "\n",
    "didziausias_skaicius = lambda x, y, z: max(x, y, z)\n",
    "print(didziausias_skaicius(7,2,9))"
   ]
  }
 ],
 "metadata": {
  "kernelspec": {
   "display_name": "venv",
   "language": "python",
   "name": "python3"
  },
  "language_info": {
   "codemirror_mode": {
    "name": "ipython",
    "version": 3
   },
   "file_extension": ".py",
   "mimetype": "text/x-python",
   "name": "python",
   "nbconvert_exporter": "python",
   "pygments_lexer": "ipython3",
   "version": "3.11.3"
  },
  "orig_nbformat": 4
 },
 "nbformat": 4,
 "nbformat_minor": 2
}
