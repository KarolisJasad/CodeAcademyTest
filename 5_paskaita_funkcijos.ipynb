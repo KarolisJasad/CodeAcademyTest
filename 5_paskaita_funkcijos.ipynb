{
 "cells": [
  {
   "attachments": {},
   "cell_type": "markdown",
   "metadata": {},
   "source": [
    "## Funkcijos"
   ]
  },
  {
   "cell_type": "code",
   "execution_count": 1,
   "metadata": {},
   "outputs": [
    {
     "name": "stdout",
     "output_type": "stream",
     "text": [
      "Įvestas skaičius yra nelyginis.\n"
     ]
    }
   ],
   "source": [
    "# 1 užduotis\n",
    "\n",
    "def lyginis_nelyginis(skaicius):\n",
    "    if skaicius % 2 == 0:\n",
    "        print(\"Įvestas skaičius yra lyginis.\")\n",
    "    else:\n",
    "        print(\"Įvestas skaičius yra nelyginis.\")\n",
    "lyginis_nelyginis(5)"
   ]
  },
  {
   "cell_type": "code",
   "execution_count": 2,
   "metadata": {},
   "outputs": [
    {
     "name": "stdout",
     "output_type": "stream",
     "text": [
      "Įvestas skaičius yra teigiamas.\n"
     ]
    }
   ],
   "source": [
    "# 2 užduotis\n",
    "\n",
    "def ar_teigiamas(skaicius):\n",
    "    if skaicius > 0:\n",
    "        print(\"Įvestas skaičius yra teigiamas.\")\n",
    "    else:\n",
    "        print(\"Įvestas skaičius nėra teigiamas.\")\n",
    "ar_teigiamas(4)"
   ]
  },
  {
   "cell_type": "code",
   "execution_count": null,
   "metadata": {},
   "outputs": [],
   "source": [
    "# 3 užduotis\n",
    "\n",
    "def ar_daugiau_nei(skaicius, riba):\n",
    "    if skaicius > riba:\n",
    "        print(f\"Įvestas skaičius didesnis už šią ribą: {riba}.\")\n",
    "    else:\n",
    "        print(f\"Įvestas skaičius žemesnis už šią ribą: {riba}.\")\n",
    "ar_daugiau_nei(5,7)"
   ]
  }
 ],
 "metadata": {
  "kernelspec": {
   "display_name": "venv",
   "language": "python",
   "name": "python3"
  },
  "language_info": {
   "codemirror_mode": {
    "name": "ipython",
    "version": 3
   },
   "file_extension": ".py",
   "mimetype": "text/x-python",
   "name": "python",
   "nbconvert_exporter": "python",
   "pygments_lexer": "ipython3",
   "version": "3.11.3"
  },
  "orig_nbformat": 4
 },
 "nbformat": 4,
 "nbformat_minor": 2
}
