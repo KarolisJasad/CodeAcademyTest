{
 "cells": [
  {
   "attachments": {},
   "cell_type": "markdown",
   "metadata": {},
   "source": [
    "## Tuplės"
   ]
  },
  {
   "cell_type": "code",
   "execution_count": 2,
   "metadata": {},
   "outputs": [
    {
     "name": "stdout",
     "output_type": "stream",
     "text": [
      "('Kazkas', 'Kazkada', 'Puikus')\n"
     ]
    }
   ],
   "source": [
    "megstamos_grupes = ('Kazkas', 'Kazkada', 'Puikus')\n",
    "print(megstamos_grupes)"
   ]
  },
  {
   "cell_type": "code",
   "execution_count": 3,
   "metadata": {},
   "outputs": [
    {
     "name": "stdout",
     "output_type": "stream",
     "text": [
      "('Kazkas', 'Kazkada', 'Puikus', 'Bloga', 'Puikus', 'Test')\n"
     ]
    }
   ],
   "source": [
    "dar_grupiu = ('Bloga', 'Puikus', 'Test')\n",
    "bendra_grupe = megstamos_grupes + dar_grupiu\n",
    "print(bendra_grupe)"
   ]
  },
  {
   "cell_type": "code",
   "execution_count": 4,
   "metadata": {},
   "outputs": [
    {
     "name": "stdout",
     "output_type": "stream",
     "text": [
      "Kazkas\n",
      "Puikus\n",
      "Test\n"
     ]
    }
   ],
   "source": [
    "print(bendra_grupe[0])\n",
    "print(bendra_grupe[2])\n",
    "print(bendra_grupe[-1])"
   ]
  },
  {
   "cell_type": "code",
   "execution_count": 5,
   "metadata": {},
   "outputs": [
    {
     "name": "stdout",
     "output_type": "stream",
     "text": [
      "('Kazkas', 'Puikus', 'Puikus')\n"
     ]
    }
   ],
   "source": [
    "print(bendra_grupe[::2])"
   ]
  },
  {
   "cell_type": "code",
   "execution_count": 9,
   "metadata": {},
   "outputs": [
    {
     "name": "stdout",
     "output_type": "stream",
     "text": [
      "Puiki grupė kartojasi 2 kartus\n",
      "Grupės Puikus indeksas  2\n",
      "False\n"
     ]
    }
   ],
   "source": [
    "kartojancios = bendra_grupe.count('Puikus')\n",
    "print('Puiki grupė kartojasi', kartojancios, 'kartus')\n",
    "\n",
    "indeksas = bendra_grupe.index('Puikus')\n",
    "print(\"Grupės Puikus indeksas \",indeksas)\n",
    "\n",
    "print('Nera' in bendra_grupe)"
   ]
  },
  {
   "cell_type": "code",
   "execution_count": 10,
   "metadata": {},
   "outputs": [
    {
     "name": "stdout",
     "output_type": "stream",
     "text": [
      "Kazkada\n",
      "Puikus\n",
      "Kazkas\n",
      "Bloga\n",
      "Test\n"
     ]
    }
   ],
   "source": [
    "unikali_grupe = bendra_grupe\n",
    "\n",
    "for grupe in unikali_grupe:\n",
    "    print(grupe)"
   ]
  }
 ],
 "metadata": {
  "kernelspec": {
   "display_name": "venv",
   "language": "python",
   "name": "python3"
  },
  "language_info": {
   "codemirror_mode": {
    "name": "ipython",
    "version": 3
   },
   "file_extension": ".py",
   "mimetype": "text/x-python",
   "name": "python",
   "nbconvert_exporter": "python",
   "pygments_lexer": "ipython3",
   "version": "3.11.3"
  },
  "orig_nbformat": 4
 },
 "nbformat": 4,
 "nbformat_minor": 2
}
