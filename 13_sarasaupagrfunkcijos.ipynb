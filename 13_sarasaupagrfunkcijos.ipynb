{
 "cells": [
  {
   "cell_type": "code",
   "execution_count": 1,
   "metadata": {},
   "outputs": [
    {
     "name": "stdout",
     "output_type": "stream",
     "text": [
      "[24, 42, 28, 36]\n",
      "[24, 42, 28, 36]\n"
     ]
    }
   ],
   "source": [
    "# 1 uzduotis\n",
    "\n",
    "numbers = [3, 12, 6, 8, 21, 14, 9, 7, 18]\n",
    "\n",
    "filtered_numbers = filter(lambda x: x > 10, numbers)\n",
    "mapped_numbers = map(lambda x: x * 2, filtered_numbers)\n",
    "list_numbers = [x * 2 for x in numbers if x > 10]\n",
    "print(list(mapped_numbers))\n",
    "print(list_numbers)"
   ]
  },
  {
   "cell_type": "code",
   "execution_count": 2,
   "metadata": {},
   "outputs": [
    {
     "name": "stdout",
     "output_type": "stream",
     "text": [
      "30030\n"
     ]
    }
   ],
   "source": [
    "# 2 uzduotis\n",
    "\n",
    "from functools import reduce\n",
    "numbers = [2, 3, 5, 7, 11, 13]\n",
    "answer = reduce(lambda x, y: x * y, numbers)\n",
    "print(answer)"
   ]
  },
  {
   "cell_type": "code",
   "execution_count": 4,
   "metadata": {},
   "outputs": [
    {
     "name": "stdout",
     "output_type": "stream",
     "text": [
      "Suma: 41\n",
      "Vidurkis: 6.833333333333333\n",
      "Medianas: 6.0\n",
      "Mažiausias elementas: 2\n",
      "Didžiausias elementas: 13\n"
     ]
    }
   ],
   "source": [
    "# 3 uzduotis\n",
    "\n",
    "import statistics\n",
    "\n",
    "numbers = [2, 3, 5, 7, 11, 13]\n",
    "\n",
    "sum_of_numbers = sum(numbers)\n",
    "mean_of_numbers = statistics.mean(numbers)\n",
    "median_of_numbers = statistics.median(numbers)\n",
    "min_of_numbers = min(numbers)\n",
    "max_of_numbers = max(numbers)\n",
    "\n",
    "print(f\"Suma: {sum_of_numbers}\")\n",
    "print(f\"Vidurkis: {mean_of_numbers}\")\n",
    "print(f\"Medianas: {median_of_numbers}\")\n",
    "print(f\"Mažiausias elementas: {min_of_numbers}\")\n",
    "print(f\"Didžiausias elementas: {max_of_numbers}\")"
   ]
  },
  {
   "cell_type": "code",
   "execution_count": 10,
   "metadata": {},
   "outputs": [
    {
     "name": "stdout",
     "output_type": "stream",
     "text": [
      "[6, 9, 3, 10, 7, 4, 1, 8, 2, 11, 5]\n"
     ]
    }
   ],
   "source": [
    "# 4 uzuduotis\n",
    "\n",
    "numbers = [6, 8, 2, 10, 11, 9, 5, 7, 4, 1, 3]\n",
    "sorted_numbers = sorted(numbers, key=lambda x: x % 3)\n",
    "print(sorted_numbers)"
   ]
  },
  {
   "cell_type": "code",
   "execution_count": 19,
   "metadata": {},
   "outputs": [
    {
     "name": "stdout",
     "output_type": "stream",
     "text": [
      "7.0\n",
      "7.0\n"
     ]
    }
   ],
   "source": [
    "# 5 uzduotis\n",
    "\n",
    "numbers = [2, 5, 8, 10, 13, 6, 4, 12, 7, 3]\n",
    "even_numbers = list(filter(lambda x: x % 2 == 0, numbers))\n",
    "average = reduce(lambda x, y: x + y, even_numbers) / len(even_numbers)\n",
    "print(average)\n",
    "even_numberss = sum([x for x in numbers if x % 2 == 0])\n",
    "len_numbers = len([x for x in numbers if x % 2 == 0])\n",
    "averagee = even_numberss / len_numbers\n",
    "print(averagee)\n",
    "# result = sum(x for x in numbers if x % 2 == 0) / len([x for x in numbers if x % 2 == 0])\n",
    "# print(result) \n"
   ]
  }
 ],
 "metadata": {
  "kernelspec": {
   "display_name": "venv",
   "language": "python",
   "name": "python3"
  },
  "language_info": {
   "codemirror_mode": {
    "name": "ipython",
    "version": 3
   },
   "file_extension": ".py",
   "mimetype": "text/x-python",
   "name": "python",
   "nbconvert_exporter": "python",
   "pygments_lexer": "ipython3",
   "version": "3.11.3"
  },
  "orig_nbformat": 4
 },
 "nbformat": 4,
 "nbformat_minor": 2
}
