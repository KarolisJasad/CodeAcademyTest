{
 "cells": [
  {
   "attachments": {},
   "cell_type": "markdown",
   "metadata": {},
   "source": [
    "## Ciklai"
   ]
  },
  {
   "cell_type": "code",
   "execution_count": 5,
   "metadata": {},
   "outputs": [
    {
     "name": "stdout",
     "output_type": "stream",
     "text": [
      "Tadas\n",
      "Jonas\n",
      "Petras\n",
      "Judita\n",
      "Ona\n"
     ]
    }
   ],
   "source": [
    "# 1 užduotis\n",
    "\n",
    "sarasas = [\n",
    "    'Tadas',\n",
    "    'Jonas',\n",
    "    'Petras',\n",
    "    'Judita',\n",
    "    'Ona'\n",
    "]\n",
    "\n",
    "for vardai in sarasas:\n",
    "    print(vardai)"
   ]
  },
  {
   "cell_type": "code",
   "execution_count": 5,
   "metadata": {},
   "outputs": [
    {
     "name": "stdout",
     "output_type": "stream",
     "text": [
      "['Labas', 'rytas', 'kolegos']\n",
      "Eilės numeris yra: 1 ir priklausantis žodis: Labas, simbolių kiekis žodyje: 5\n",
      "Eilės numeris yra: 2 ir priklausantis žodis: rytas, simbolių kiekis žodyje: 5\n",
      "Eilės numeris yra: 3 ir priklausantis žodis: kolegos, simbolių kiekis žodyje: 7\n"
     ]
    }
   ],
   "source": [
    "# 2 užduotis\n",
    "\n",
    "tuscias_sarasas = []\n",
    "kiekis = int(input(\"Iveskite skaičių, kiek žodžių norite įvesti\"))\n",
    "for zodziai in range(kiekis):\n",
    "    tuscias_sarasas.append(input('Įveskite žodį: '))\n",
    "print(tuscias_sarasas)\n",
    "\n",
    "for numeris, zodis in enumerate(tuscias_sarasas):\n",
    "    print(f'Eilės numeris yra: {numeris +1} ir priklausantis žodis: {zodis}, simbolių kiekis žodyje: {len(zodis)}')\n",
    "\n",
    "\n"
   ]
  },
  {
   "cell_type": "code",
   "execution_count": null,
   "metadata": {},
   "outputs": [],
   "source": [
    "# 3 užduotis\n",
    "\n",
    "metai = int(input('Įveskite metus: '))\n",
    "if (metai % 400 == 0) or (metai % 4 == 0):\n",
    "    print('Keliamieji metai')\n",
    "else:\n",
    "    print('Nekeliamieji metai')\n"
   ]
  },
  {
   "cell_type": "code",
   "execution_count": 10,
   "metadata": {},
   "outputs": [
    {
     "name": "stdout",
     "output_type": "stream",
     "text": [
      "1900\n",
      "1904\n",
      "1908\n",
      "1912\n",
      "1916\n",
      "1920\n",
      "1924\n",
      "1928\n",
      "1932\n",
      "1936\n",
      "1940\n",
      "1944\n",
      "1948\n",
      "1952\n",
      "1956\n",
      "1960\n",
      "1964\n",
      "1968\n",
      "1972\n",
      "1976\n",
      "1980\n",
      "1984\n",
      "1988\n",
      "1992\n",
      "1996\n",
      "2000\n",
      "2000\n",
      "2004\n",
      "2008\n",
      "2012\n",
      "2016\n",
      "2020\n",
      "2024\n",
      "2028\n",
      "2032\n",
      "2036\n",
      "2040\n",
      "2044\n",
      "2048\n",
      "2052\n",
      "2056\n",
      "2060\n",
      "2064\n",
      "2068\n",
      "2072\n",
      "2076\n",
      "2080\n",
      "2084\n",
      "2088\n",
      "2092\n",
      "2096\n"
     ]
    }
   ],
   "source": [
    "# 4 užduotis\n",
    "\n",
    "for metai in range(1900, 2100):\n",
    "    if metai % 400 == 0:\n",
    "        print(metai)\n",
    "    elif metai % 4 == 0:\n",
    "        print(metai)\n",
    "    "
   ]
  }
 ],
 "metadata": {
  "kernelspec": {
   "display_name": "venv",
   "language": "python",
   "name": "python3"
  },
  "language_info": {
   "codemirror_mode": {
    "name": "ipython",
    "version": 3
   },
   "file_extension": ".py",
   "mimetype": "text/x-python",
   "name": "python",
   "nbconvert_exporter": "python",
   "pygments_lexer": "ipython3",
   "version": "3.11.3"
  },
  "orig_nbformat": 4
 },
 "nbformat": 4,
 "nbformat_minor": 2
}
