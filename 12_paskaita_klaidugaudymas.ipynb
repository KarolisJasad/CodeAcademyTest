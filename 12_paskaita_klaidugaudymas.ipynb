{
 "cells": [
  {
   "cell_type": "code",
   "execution_count": 2,
   "metadata": {},
   "outputs": [
    {
     "name": "stdout",
     "output_type": "stream",
     "text": [
      "klaida\n"
     ]
    }
   ],
   "source": [
    "try:\n",
    "    skaicius = 10 / 0\n",
    "except:\n",
    "    print('klaida')\n",
    "else:\n",
    "    print(skaicius)"
   ]
  },
  {
   "cell_type": "code",
   "execution_count": 3,
   "metadata": {},
   "outputs": [
    {
     "name": "stdout",
     "output_type": "stream",
     "text": [
      "100000000.0\n"
     ]
    }
   ],
   "source": [
    "try:\n",
    "    skaicius = 1 / 0.00000001\n",
    "except ZeroDivisionError:\n",
    "    print\n",
    "else:\n",
    "    print(skaicius)"
   ]
  },
  {
   "cell_type": "code",
   "execution_count": 5,
   "metadata": {},
   "outputs": [],
   "source": [
    "try:\n",
    "    skaicius = 7 / 0\n",
    "except:\n",
    "    pass"
   ]
  },
  {
   "cell_type": "code",
   "execution_count": 8,
   "metadata": {},
   "outputs": [
    {
     "name": "stdout",
     "output_type": "stream",
     "text": [
      "Netinkamas skaiciaus formatas\n"
     ]
    }
   ],
   "source": [
    "try:\n",
    "    skaicius = int(input(\"Iveskite skaidciu\"))\n",
    "    rezultatas = 2 / skaicius\n",
    "except ZeroDivisionError:\n",
    "    print(\"Negalima dalinti is nulio\")\n",
    "except ValueError:\n",
    "    print(\"Netinkamas skaiciaus formatas\")\n",
    "except:\n",
    "    print(\"Klaida\")\n",
    "else:\n",
    "    print(\"rezultatas yra:\", rezultatas)"
   ]
  },
  {
   "cell_type": "code",
   "execution_count": null,
   "metadata": {},
   "outputs": [],
   "source": [
    "# 1 uzduotis\n",
    "\n",
    "try:\n",
    "    x = int(input(\"Įveskite pirmąjį skaičių: \"))\n",
    "    y = int(input(\"Įveskite antrąjį skaičių: \"))\n",
    "    rezultatas = x / y\n",
    "    print(\"Rezultatas:\", rezultatas)\n",
    "except ValueError:\n",
    "    print(\"Įvestas neteisingas skaičius\")\n",
    "except ZeroDivisionError:\n",
    "    print(\"Negalima dalinti iš nulio\")\n",
    "except:\n",
    "    print(\"Klaida\")"
   ]
  },
  {
   "cell_type": "code",
   "execution_count": 1,
   "metadata": {},
   "outputs": [
    {
     "name": "stdout",
     "output_type": "stream",
     "text": [
      "Klaida: could not convert string to float: ''\n"
     ]
    }
   ],
   "source": [
    "# uzduotis\n",
    "\n",
    "while True:\n",
    "    try:\n",
    "        skaicius = float(input(\"Įveskite teigiamą skaičių: \"))\n",
    "        if skaicius <= 0:\n",
    "            raise ValueError(\"Įvestas skaičius yra neigiamas arba 0\")\n",
    "        else:\n",
    "            print(\"Ačiū, jūs įvedėte:\", skaicius)\n",
    "            break\n",
    "    except ValueError as error:\n",
    "        print(\"Klaida:\", error)\n",
    "        break"
   ]
  },
  {
   "cell_type": "code",
   "execution_count": null,
   "metadata": {},
   "outputs": [],
   "source": []
  }
 ],
 "metadata": {
  "kernelspec": {
   "display_name": "venv",
   "language": "python",
   "name": "python3"
  },
  "language_info": {
   "codemirror_mode": {
    "name": "ipython",
    "version": 3
   },
   "file_extension": ".py",
   "mimetype": "text/x-python",
   "name": "python",
   "nbconvert_exporter": "python",
   "pygments_lexer": "ipython3",
   "version": "3.11.3"
  },
  "orig_nbformat": 4
 },
 "nbformat": 4,
 "nbformat_minor": 2
}
